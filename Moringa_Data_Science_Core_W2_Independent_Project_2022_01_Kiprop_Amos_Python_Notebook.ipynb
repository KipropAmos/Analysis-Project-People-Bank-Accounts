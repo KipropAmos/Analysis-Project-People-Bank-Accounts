{
  "nbformat": 4,
  "nbformat_minor": 0,
  "metadata": {
    "colab": {
      "name": "Moringa_Data_Science_Core_W2_Independent_Project_2022_01_Kiprop_Amos_Python_Notebook",
      "provenance": [],
      "toc_visible": true,
      "collapsed_sections": [
        "e5DZKgs4jen1",
        "kAqGhmoonHxr",
        "eQeyhWt8ami_",
        "kxKs48K2eWec"
      ]
    },
    "kernelspec": {
      "name": "python3",
      "display_name": "Python 3"
    },
    "language_info": {
      "name": "python"
    }
  },
  "cells": [
    {
      "cell_type": "markdown",
      "source": [
        "# Prediction of individuals most likely to have bank account"
      ],
      "metadata": {
        "id": "QYJyh-X8bK9I"
      }
    },
    {
      "cell_type": "markdown",
      "source": [
        "## 1) Defining the questions"
      ],
      "metadata": {
        "id": "PQSF8KdWcLZU"
      }
    },
    {
      "cell_type": "markdown",
      "source": [
        "### 1) Specifying the question\n",
        "- Predict which people are most likely to use a bank account Kenya, Rwanda, Tanzania, & Burundi"
      ],
      "metadata": {
        "id": "qC6vcSXccqzE"
      }
    },
    {
      "cell_type": "markdown",
      "source": [
        "### 2) Metric of Success\n",
        "- The section of demography that is most likely to have or use a bank account is established in Kenya, Rwanda, Tanzania, & Burundi"
      ],
      "metadata": {
        "id": "ypPRYUBNcrOp"
      }
    },
    {
      "cell_type": "markdown",
      "source": [
        "### 3) Understanding the context\n",
        "- The data is collected from 3 east african countries\n",
        "    - Kenya\n",
        "    - Uganda\n",
        "    - Rwanda\n",
        "    - Tanzania\n",
        "- The data is from a period of 3 years\n",
        "     - 2018, 2017, 2016\n",
        "- The data has records of 'Country', 'Year', 'UniqueID', 'Has a Bank Account', 'Type of Location' 'Cell Phone Access', 'Household Size','Respondent Age', 'Respondent Gender', 'Relationship with Head', 'Marital Status', 'Level of Educuation', 'Type of Job'\n",
        "- The data is sampled from with an aim of establishing people with bank accounts and what they might have in common\n"
      ],
      "metadata": {
        "id": "BKVEdBf1crm6"
      }
    },
    {
      "cell_type": "markdown",
      "source": [
        "### 4) Experimental Design\n",
        "\n",
        "- **Null Hypothesis**: \n",
        "        - There is no difference in bank account holders across males and females\n",
        "        - There is no difference in bank account holders across 24-87 years\n",
        "        - There is no difference in bank account holders across household sizes\n",
        "        - There is no difference in bank account holders across educational level\n",
        "        - There is no difference in bank account holders across job type\n",
        "        - There is no difference in bank account holders across Marital status\n",
        "\n",
        "- **Alternate Hypothesis**: \n",
        "        - There number of bank account holders differs across males and females\n",
        "        - There number of bank account holders differs across across 24-87 years\n",
        "        - There number of bank account holders differs across household sizes\n",
        "        - There number of bank account holders differs across  educational level\n",
        "        - There number of bank account holders differs across  job type\n",
        "        - There number of bank account holders differs across Marital status\n",
        "\n",
        "- **Significance Level**\n",
        "        - Significance Level (a) is set at 0.05\n",
        "\n",
        "- **Design of experiment** \n",
        "      — The calculated t-statistic and corresponding p_value will be obtained\n",
        "      - The null hypothesis will be rejected or accepted using the p-value in releation to the significance level\n",
        "- **Sample size (n)** \n",
        "        — 23, 524 individuals"
      ],
      "metadata": {
        "id": "uKFjb9aqcsNI"
      }
    },
    {
      "cell_type": "markdown",
      "source": [
        "### 5) Data relevance\n",
        "- Country interviewee is in.\n",
        "- Year survey was done in.\n",
        "- Unique identifier for each interviewee\n",
        "- Type of location: Rural, Urban\n",
        "- If interviewee has access to a cellphone: Yes, No\n",
        "- Number of people living in one house\n",
        "- The age of the interviewee\n",
        "- Gender of interviewee: Male, Female\n",
        "- The intervieweeâ€™s relationship with the head of the house:Head of Household, Spouse, Child, Parent, Other relative, Other non-relatives, Dont know\n",
        "- The martial status of the interviewee: Married/- Living together, Divorced/Seperated, Widowed, Single/Never Married, Donâ€™t know\n",
        "- Highest level of education: No formal education, Primary education, Secondary education, Vocational/Specialised training, Tertiary education, Other/Dont know/RTA\n",
        "- Type of job interviewee has: Farming and Fishing, Self employed, Formally employed Government, Formally employed Private, Informally employed, Remittance Dependent, Government Dependent, Other Income, No Income, Dont Know/Refuse to answer\n"
      ],
      "metadata": {
        "id": "TKudlLtfdZiX"
      }
    },
    {
      "cell_type": "markdown",
      "source": [
        "## 2) Importing Libraries"
      ],
      "metadata": {
        "id": "wefqKHlYelZY"
      }
    },
    {
      "cell_type": "code",
      "source": [
        "# Importing pandas library\n",
        "import pandas as pd\n",
        "\n",
        "# Importing Numpy Library\n",
        "import numpy as np\n",
        "\n",
        "# Importing Seaborn library\n",
        "import seaborn as sns\n",
        "\n",
        "# Importing Matplotlib Libary\n",
        "import matplotlib\n",
        "\n",
        "# importing pyplot from matplotlib library\n",
        "from matplotlib import pyplot as plt\n",
        "\n",
        "# Importing product from itertools library\n",
        "from itertools import product\n",
        "\n",
        "# Importy scipy stats\n",
        "import scipy.stats\n",
        "\n",
        "# Import chi2_contingency from scipy stats\n",
        "from scipy.stats import chi2_contingency \n"
      ],
      "metadata": {
        "id": "OA5K1f6ketA_"
      },
      "execution_count": 285,
      "outputs": []
    },
    {
      "cell_type": "markdown",
      "source": [
        "## 3) Reading Data"
      ],
      "metadata": {
        "id": "KPrOg3rBeX9w"
      }
    },
    {
      "cell_type": "code",
      "source": [
        "# Loading the dataset with the definitions of variables in finscope survey dataset\n",
        "# url = 'http://bit.ly/VariableDefinitions'\n",
        "# Specifying URL\n",
        "#\n",
        "url = 'http://bit.ly/VariableDefinitions'\n",
        "\n",
        "# Reading the URL data\n",
        "variable_definition_df = pd.read_csv(url)"
      ],
      "metadata": {
        "id": "onHhnLYAedmI"
      },
      "execution_count": 286,
      "outputs": []
    },
    {
      "cell_type": "markdown",
      "source": [
        "- The variables definition dataframe provides the information on the data contained in each column"
      ],
      "metadata": {
        "id": "O5GW5Kj-c0dd"
      }
    },
    {
      "cell_type": "code",
      "source": [
        "# Loading the Finscope survey dataframe\n",
        "# url1 = ' http://bit.ly/FinancialDataset'\n",
        "# Specifying URL\n",
        "#\n",
        "url1 = 'http://bit.ly/FinancialDataset'\n",
        "\n",
        "# Reading data in the URL\n",
        "finscope_df = pd.read_csv(url1)\n"
      ],
      "metadata": {
        "id": "0eWnmTUTedjW"
      },
      "execution_count": 287,
      "outputs": []
    },
    {
      "cell_type": "markdown",
      "source": [
        "### 4) Checking the Data"
      ],
      "metadata": {
        "id": "-RMpbfb6iSiJ"
      }
    },
    {
      "cell_type": "code",
      "source": [
        "# Previewing the entire variable definition data frame\n",
        "variable_definition_df"
      ],
      "metadata": {
        "id": "-xfRHDnUihvm",
        "colab": {
          "base_uri": "https://localhost:8080/",
          "height": 425
        },
        "outputId": "f9719331-18ab-4093-c984-8cb90a6546d9"
      },
      "execution_count": 288,
      "outputs": [
        {
          "output_type": "execute_result",
          "data": {
            "text/plain": [
              "      Variable Definitions                                         Unnamed: 1\n",
              "0                  country                         Country interviewee is in.\n",
              "1                     year                           Year survey was done in.\n",
              "2                 uniqueid             Unique identifier for each interviewee\n",
              "3            location_type                     Type of location: Rural, Urban\n",
              "4         cellphone_access  If interviewee has access to a cellphone: Yes, No\n",
              "5           household_size               Number of people living in one house\n",
              "6        age_of_respondent                         The age of the interviewee\n",
              "7     gender_of_respondent                Gender of interviewee: Male, Female\n",
              "8   relationship_with_head  The interviewee’s relationship with the head o...\n",
              "9           marital_status  The martial status of the interviewee: Married...\n",
              "10         education_level  Highest level of education: No formal educatio...\n",
              "11                job_type  Type of job interviewee has: Farming and Fishi..."
            ],
            "text/html": [
              "\n",
              "  <div id=\"df-359136e5-d820-499b-8863-dd9d0e6be88f\">\n",
              "    <div class=\"colab-df-container\">\n",
              "      <div>\n",
              "<style scoped>\n",
              "    .dataframe tbody tr th:only-of-type {\n",
              "        vertical-align: middle;\n",
              "    }\n",
              "\n",
              "    .dataframe tbody tr th {\n",
              "        vertical-align: top;\n",
              "    }\n",
              "\n",
              "    .dataframe thead th {\n",
              "        text-align: right;\n",
              "    }\n",
              "</style>\n",
              "<table border=\"1\" class=\"dataframe\">\n",
              "  <thead>\n",
              "    <tr style=\"text-align: right;\">\n",
              "      <th></th>\n",
              "      <th>Variable Definitions</th>\n",
              "      <th>Unnamed: 1</th>\n",
              "    </tr>\n",
              "  </thead>\n",
              "  <tbody>\n",
              "    <tr>\n",
              "      <th>0</th>\n",
              "      <td>country</td>\n",
              "      <td>Country interviewee is in.</td>\n",
              "    </tr>\n",
              "    <tr>\n",
              "      <th>1</th>\n",
              "      <td>year</td>\n",
              "      <td>Year survey was done in.</td>\n",
              "    </tr>\n",
              "    <tr>\n",
              "      <th>2</th>\n",
              "      <td>uniqueid</td>\n",
              "      <td>Unique identifier for each interviewee</td>\n",
              "    </tr>\n",
              "    <tr>\n",
              "      <th>3</th>\n",
              "      <td>location_type</td>\n",
              "      <td>Type of location: Rural, Urban</td>\n",
              "    </tr>\n",
              "    <tr>\n",
              "      <th>4</th>\n",
              "      <td>cellphone_access</td>\n",
              "      <td>If interviewee has access to a cellphone: Yes, No</td>\n",
              "    </tr>\n",
              "    <tr>\n",
              "      <th>5</th>\n",
              "      <td>household_size</td>\n",
              "      <td>Number of people living in one house</td>\n",
              "    </tr>\n",
              "    <tr>\n",
              "      <th>6</th>\n",
              "      <td>age_of_respondent</td>\n",
              "      <td>The age of the interviewee</td>\n",
              "    </tr>\n",
              "    <tr>\n",
              "      <th>7</th>\n",
              "      <td>gender_of_respondent</td>\n",
              "      <td>Gender of interviewee: Male, Female</td>\n",
              "    </tr>\n",
              "    <tr>\n",
              "      <th>8</th>\n",
              "      <td>relationship_with_head</td>\n",
              "      <td>The interviewee’s relationship with the head o...</td>\n",
              "    </tr>\n",
              "    <tr>\n",
              "      <th>9</th>\n",
              "      <td>marital_status</td>\n",
              "      <td>The martial status of the interviewee: Married...</td>\n",
              "    </tr>\n",
              "    <tr>\n",
              "      <th>10</th>\n",
              "      <td>education_level</td>\n",
              "      <td>Highest level of education: No formal educatio...</td>\n",
              "    </tr>\n",
              "    <tr>\n",
              "      <th>11</th>\n",
              "      <td>job_type</td>\n",
              "      <td>Type of job interviewee has: Farming and Fishi...</td>\n",
              "    </tr>\n",
              "  </tbody>\n",
              "</table>\n",
              "</div>\n",
              "      <button class=\"colab-df-convert\" onclick=\"convertToInteractive('df-359136e5-d820-499b-8863-dd9d0e6be88f')\"\n",
              "              title=\"Convert this dataframe to an interactive table.\"\n",
              "              style=\"display:none;\">\n",
              "        \n",
              "  <svg xmlns=\"http://www.w3.org/2000/svg\" height=\"24px\"viewBox=\"0 0 24 24\"\n",
              "       width=\"24px\">\n",
              "    <path d=\"M0 0h24v24H0V0z\" fill=\"none\"/>\n",
              "    <path d=\"M18.56 5.44l.94 2.06.94-2.06 2.06-.94-2.06-.94-.94-2.06-.94 2.06-2.06.94zm-11 1L8.5 8.5l.94-2.06 2.06-.94-2.06-.94L8.5 2.5l-.94 2.06-2.06.94zm10 10l.94 2.06.94-2.06 2.06-.94-2.06-.94-.94-2.06-.94 2.06-2.06.94z\"/><path d=\"M17.41 7.96l-1.37-1.37c-.4-.4-.92-.59-1.43-.59-.52 0-1.04.2-1.43.59L10.3 9.45l-7.72 7.72c-.78.78-.78 2.05 0 2.83L4 21.41c.39.39.9.59 1.41.59.51 0 1.02-.2 1.41-.59l7.78-7.78 2.81-2.81c.8-.78.8-2.07 0-2.86zM5.41 20L4 18.59l7.72-7.72 1.47 1.35L5.41 20z\"/>\n",
              "  </svg>\n",
              "      </button>\n",
              "      \n",
              "  <style>\n",
              "    .colab-df-container {\n",
              "      display:flex;\n",
              "      flex-wrap:wrap;\n",
              "      gap: 12px;\n",
              "    }\n",
              "\n",
              "    .colab-df-convert {\n",
              "      background-color: #E8F0FE;\n",
              "      border: none;\n",
              "      border-radius: 50%;\n",
              "      cursor: pointer;\n",
              "      display: none;\n",
              "      fill: #1967D2;\n",
              "      height: 32px;\n",
              "      padding: 0 0 0 0;\n",
              "      width: 32px;\n",
              "    }\n",
              "\n",
              "    .colab-df-convert:hover {\n",
              "      background-color: #E2EBFA;\n",
              "      box-shadow: 0px 1px 2px rgba(60, 64, 67, 0.3), 0px 1px 3px 1px rgba(60, 64, 67, 0.15);\n",
              "      fill: #174EA6;\n",
              "    }\n",
              "\n",
              "    [theme=dark] .colab-df-convert {\n",
              "      background-color: #3B4455;\n",
              "      fill: #D2E3FC;\n",
              "    }\n",
              "\n",
              "    [theme=dark] .colab-df-convert:hover {\n",
              "      background-color: #434B5C;\n",
              "      box-shadow: 0px 1px 3px 1px rgba(0, 0, 0, 0.15);\n",
              "      filter: drop-shadow(0px 1px 2px rgba(0, 0, 0, 0.3));\n",
              "      fill: #FFFFFF;\n",
              "    }\n",
              "  </style>\n",
              "\n",
              "      <script>\n",
              "        const buttonEl =\n",
              "          document.querySelector('#df-359136e5-d820-499b-8863-dd9d0e6be88f button.colab-df-convert');\n",
              "        buttonEl.style.display =\n",
              "          google.colab.kernel.accessAllowed ? 'block' : 'none';\n",
              "\n",
              "        async function convertToInteractive(key) {\n",
              "          const element = document.querySelector('#df-359136e5-d820-499b-8863-dd9d0e6be88f');\n",
              "          const dataTable =\n",
              "            await google.colab.kernel.invokeFunction('convertToInteractive',\n",
              "                                                     [key], {});\n",
              "          if (!dataTable) return;\n",
              "\n",
              "          const docLinkHtml = 'Like what you see? Visit the ' +\n",
              "            '<a target=\"_blank\" href=https://colab.research.google.com/notebooks/data_table.ipynb>data table notebook</a>'\n",
              "            + ' to learn more about interactive tables.';\n",
              "          element.innerHTML = '';\n",
              "          dataTable['output_type'] = 'display_data';\n",
              "          await google.colab.output.renderOutput(dataTable, element);\n",
              "          const docLink = document.createElement('div');\n",
              "          docLink.innerHTML = docLinkHtml;\n",
              "          element.appendChild(docLink);\n",
              "        }\n",
              "      </script>\n",
              "    </div>\n",
              "  </div>\n",
              "  "
            ]
          },
          "metadata": {},
          "execution_count": 288
        }
      ]
    },
    {
      "cell_type": "code",
      "source": [
        "# previewing the top of Finscope dataset\n",
        "finscope_df.head()"
      ],
      "metadata": {
        "id": "HWFPPqJsedgp",
        "colab": {
          "base_uri": "https://localhost:8080/",
          "height": 426
        },
        "outputId": "94f3a506-a79c-4cd8-c5df-374b8e62b745"
      },
      "execution_count": 289,
      "outputs": [
        {
          "output_type": "execute_result",
          "data": {
            "text/plain": [
              "  country  year    uniqueid Has a Bank account Type of Location  \\\n",
              "0   Kenya  2018  uniqueid_1                Yes            Rural   \n",
              "1   Kenya  2018  uniqueid_2                 No            Rural   \n",
              "2   Kenya  2018  uniqueid_3                Yes            Urban   \n",
              "3   Kenya  2018  uniqueid_4                 No            Rural   \n",
              "4   Kenya  2018  uniqueid_5                 No            Urban   \n",
              "\n",
              "  Cell Phone Access  household_size  Respondent Age gender_of_respondent  \\\n",
              "0               Yes             3.0            24.0               Female   \n",
              "1                No             5.0            70.0               Female   \n",
              "2               Yes             5.0            26.0                 Male   \n",
              "3               Yes             5.0            34.0               Female   \n",
              "4                No             8.0            26.0                 Male   \n",
              "\n",
              "  The relathip with head           marital_status  \\\n",
              "0                 Spouse  Married/Living together   \n",
              "1      Head of Household                  Widowed   \n",
              "2         Other relative     Single/Never Married   \n",
              "3      Head of Household  Married/Living together   \n",
              "4                  Child     Single/Never Married   \n",
              "\n",
              "               Level of Educuation                Type of Job  \n",
              "0              Secondary education              Self employed  \n",
              "1              No formal education       Government Dependent  \n",
              "2  Vocational/Specialised training              Self employed  \n",
              "3                Primary education  Formally employed Private  \n",
              "4                Primary education        Informally employed  "
            ],
            "text/html": [
              "\n",
              "  <div id=\"df-908c8fba-3ee1-4497-af5a-8a3e245752e3\">\n",
              "    <div class=\"colab-df-container\">\n",
              "      <div>\n",
              "<style scoped>\n",
              "    .dataframe tbody tr th:only-of-type {\n",
              "        vertical-align: middle;\n",
              "    }\n",
              "\n",
              "    .dataframe tbody tr th {\n",
              "        vertical-align: top;\n",
              "    }\n",
              "\n",
              "    .dataframe thead th {\n",
              "        text-align: right;\n",
              "    }\n",
              "</style>\n",
              "<table border=\"1\" class=\"dataframe\">\n",
              "  <thead>\n",
              "    <tr style=\"text-align: right;\">\n",
              "      <th></th>\n",
              "      <th>country</th>\n",
              "      <th>year</th>\n",
              "      <th>uniqueid</th>\n",
              "      <th>Has a Bank account</th>\n",
              "      <th>Type of Location</th>\n",
              "      <th>Cell Phone Access</th>\n",
              "      <th>household_size</th>\n",
              "      <th>Respondent Age</th>\n",
              "      <th>gender_of_respondent</th>\n",
              "      <th>The relathip with head</th>\n",
              "      <th>marital_status</th>\n",
              "      <th>Level of Educuation</th>\n",
              "      <th>Type of Job</th>\n",
              "    </tr>\n",
              "  </thead>\n",
              "  <tbody>\n",
              "    <tr>\n",
              "      <th>0</th>\n",
              "      <td>Kenya</td>\n",
              "      <td>2018</td>\n",
              "      <td>uniqueid_1</td>\n",
              "      <td>Yes</td>\n",
              "      <td>Rural</td>\n",
              "      <td>Yes</td>\n",
              "      <td>3.0</td>\n",
              "      <td>24.0</td>\n",
              "      <td>Female</td>\n",
              "      <td>Spouse</td>\n",
              "      <td>Married/Living together</td>\n",
              "      <td>Secondary education</td>\n",
              "      <td>Self employed</td>\n",
              "    </tr>\n",
              "    <tr>\n",
              "      <th>1</th>\n",
              "      <td>Kenya</td>\n",
              "      <td>2018</td>\n",
              "      <td>uniqueid_2</td>\n",
              "      <td>No</td>\n",
              "      <td>Rural</td>\n",
              "      <td>No</td>\n",
              "      <td>5.0</td>\n",
              "      <td>70.0</td>\n",
              "      <td>Female</td>\n",
              "      <td>Head of Household</td>\n",
              "      <td>Widowed</td>\n",
              "      <td>No formal education</td>\n",
              "      <td>Government Dependent</td>\n",
              "    </tr>\n",
              "    <tr>\n",
              "      <th>2</th>\n",
              "      <td>Kenya</td>\n",
              "      <td>2018</td>\n",
              "      <td>uniqueid_3</td>\n",
              "      <td>Yes</td>\n",
              "      <td>Urban</td>\n",
              "      <td>Yes</td>\n",
              "      <td>5.0</td>\n",
              "      <td>26.0</td>\n",
              "      <td>Male</td>\n",
              "      <td>Other relative</td>\n",
              "      <td>Single/Never Married</td>\n",
              "      <td>Vocational/Specialised training</td>\n",
              "      <td>Self employed</td>\n",
              "    </tr>\n",
              "    <tr>\n",
              "      <th>3</th>\n",
              "      <td>Kenya</td>\n",
              "      <td>2018</td>\n",
              "      <td>uniqueid_4</td>\n",
              "      <td>No</td>\n",
              "      <td>Rural</td>\n",
              "      <td>Yes</td>\n",
              "      <td>5.0</td>\n",
              "      <td>34.0</td>\n",
              "      <td>Female</td>\n",
              "      <td>Head of Household</td>\n",
              "      <td>Married/Living together</td>\n",
              "      <td>Primary education</td>\n",
              "      <td>Formally employed Private</td>\n",
              "    </tr>\n",
              "    <tr>\n",
              "      <th>4</th>\n",
              "      <td>Kenya</td>\n",
              "      <td>2018</td>\n",
              "      <td>uniqueid_5</td>\n",
              "      <td>No</td>\n",
              "      <td>Urban</td>\n",
              "      <td>No</td>\n",
              "      <td>8.0</td>\n",
              "      <td>26.0</td>\n",
              "      <td>Male</td>\n",
              "      <td>Child</td>\n",
              "      <td>Single/Never Married</td>\n",
              "      <td>Primary education</td>\n",
              "      <td>Informally employed</td>\n",
              "    </tr>\n",
              "  </tbody>\n",
              "</table>\n",
              "</div>\n",
              "      <button class=\"colab-df-convert\" onclick=\"convertToInteractive('df-908c8fba-3ee1-4497-af5a-8a3e245752e3')\"\n",
              "              title=\"Convert this dataframe to an interactive table.\"\n",
              "              style=\"display:none;\">\n",
              "        \n",
              "  <svg xmlns=\"http://www.w3.org/2000/svg\" height=\"24px\"viewBox=\"0 0 24 24\"\n",
              "       width=\"24px\">\n",
              "    <path d=\"M0 0h24v24H0V0z\" fill=\"none\"/>\n",
              "    <path d=\"M18.56 5.44l.94 2.06.94-2.06 2.06-.94-2.06-.94-.94-2.06-.94 2.06-2.06.94zm-11 1L8.5 8.5l.94-2.06 2.06-.94-2.06-.94L8.5 2.5l-.94 2.06-2.06.94zm10 10l.94 2.06.94-2.06 2.06-.94-2.06-.94-.94-2.06-.94 2.06-2.06.94z\"/><path d=\"M17.41 7.96l-1.37-1.37c-.4-.4-.92-.59-1.43-.59-.52 0-1.04.2-1.43.59L10.3 9.45l-7.72 7.72c-.78.78-.78 2.05 0 2.83L4 21.41c.39.39.9.59 1.41.59.51 0 1.02-.2 1.41-.59l7.78-7.78 2.81-2.81c.8-.78.8-2.07 0-2.86zM5.41 20L4 18.59l7.72-7.72 1.47 1.35L5.41 20z\"/>\n",
              "  </svg>\n",
              "      </button>\n",
              "      \n",
              "  <style>\n",
              "    .colab-df-container {\n",
              "      display:flex;\n",
              "      flex-wrap:wrap;\n",
              "      gap: 12px;\n",
              "    }\n",
              "\n",
              "    .colab-df-convert {\n",
              "      background-color: #E8F0FE;\n",
              "      border: none;\n",
              "      border-radius: 50%;\n",
              "      cursor: pointer;\n",
              "      display: none;\n",
              "      fill: #1967D2;\n",
              "      height: 32px;\n",
              "      padding: 0 0 0 0;\n",
              "      width: 32px;\n",
              "    }\n",
              "\n",
              "    .colab-df-convert:hover {\n",
              "      background-color: #E2EBFA;\n",
              "      box-shadow: 0px 1px 2px rgba(60, 64, 67, 0.3), 0px 1px 3px 1px rgba(60, 64, 67, 0.15);\n",
              "      fill: #174EA6;\n",
              "    }\n",
              "\n",
              "    [theme=dark] .colab-df-convert {\n",
              "      background-color: #3B4455;\n",
              "      fill: #D2E3FC;\n",
              "    }\n",
              "\n",
              "    [theme=dark] .colab-df-convert:hover {\n",
              "      background-color: #434B5C;\n",
              "      box-shadow: 0px 1px 3px 1px rgba(0, 0, 0, 0.15);\n",
              "      filter: drop-shadow(0px 1px 2px rgba(0, 0, 0, 0.3));\n",
              "      fill: #FFFFFF;\n",
              "    }\n",
              "  </style>\n",
              "\n",
              "      <script>\n",
              "        const buttonEl =\n",
              "          document.querySelector('#df-908c8fba-3ee1-4497-af5a-8a3e245752e3 button.colab-df-convert');\n",
              "        buttonEl.style.display =\n",
              "          google.colab.kernel.accessAllowed ? 'block' : 'none';\n",
              "\n",
              "        async function convertToInteractive(key) {\n",
              "          const element = document.querySelector('#df-908c8fba-3ee1-4497-af5a-8a3e245752e3');\n",
              "          const dataTable =\n",
              "            await google.colab.kernel.invokeFunction('convertToInteractive',\n",
              "                                                     [key], {});\n",
              "          if (!dataTable) return;\n",
              "\n",
              "          const docLinkHtml = 'Like what you see? Visit the ' +\n",
              "            '<a target=\"_blank\" href=https://colab.research.google.com/notebooks/data_table.ipynb>data table notebook</a>'\n",
              "            + ' to learn more about interactive tables.';\n",
              "          element.innerHTML = '';\n",
              "          dataTable['output_type'] = 'display_data';\n",
              "          await google.colab.output.renderOutput(dataTable, element);\n",
              "          const docLink = document.createElement('div');\n",
              "          docLink.innerHTML = docLinkHtml;\n",
              "          element.appendChild(docLink);\n",
              "        }\n",
              "      </script>\n",
              "    </div>\n",
              "  </div>\n",
              "  "
            ]
          },
          "metadata": {},
          "execution_count": 289
        }
      ]
    },
    {
      "cell_type": "code",
      "source": [
        "# previewing the bottom of Finscope dataset\n",
        "finscope_df.tail()"
      ],
      "metadata": {
        "id": "VeSs1aNxedeJ",
        "colab": {
          "base_uri": "https://localhost:8080/",
          "height": 409
        },
        "outputId": "ba8b8c13-c259-47af-a1f4-c44e34493f8f"
      },
      "execution_count": 290,
      "outputs": [
        {
          "output_type": "execute_result",
          "data": {
            "text/plain": [
              "      country  year       uniqueid Has a Bank account Type of Location  \\\n",
              "23519  Uganda  2018  uniqueid_2113                 No            Rural   \n",
              "23520  Uganda  2018  uniqueid_2114                 No            Rural   \n",
              "23521  Uganda  2018  uniqueid_2115                 No            Rural   \n",
              "23522  Uganda  2018  uniqueid_2116                 No            Urban   \n",
              "23523  Uganda  2018  uniqueid_2117                 No            Rural   \n",
              "\n",
              "      Cell Phone Access  household_size  Respondent Age gender_of_respondent  \\\n",
              "23519               Yes             4.0            48.0               Female   \n",
              "23520               Yes             2.0            27.0               Female   \n",
              "23521               Yes             5.0            27.0               Female   \n",
              "23522               Yes             7.0            30.0               Female   \n",
              "23523               Yes            10.0            20.0                 Male   \n",
              "\n",
              "      The relathip with head        marital_status  Level of Educuation  \\\n",
              "23519      Head of Household    Divorced/Seperated  No formal education   \n",
              "23520      Head of Household  Single/Never Married  Secondary education   \n",
              "23521                 Parent               Widowed    Primary education   \n",
              "23522                 Parent    Divorced/Seperated  Secondary education   \n",
              "23523                  Child  Single/Never Married  Secondary education   \n",
              "\n",
              "         Type of Job  \n",
              "23519   Other Income  \n",
              "23520   Other Income  \n",
              "23521   Other Income  \n",
              "23522  Self employed  \n",
              "23523      No Income  "
            ],
            "text/html": [
              "\n",
              "  <div id=\"df-186bd176-073f-4777-ad0c-63e94e11b45b\">\n",
              "    <div class=\"colab-df-container\">\n",
              "      <div>\n",
              "<style scoped>\n",
              "    .dataframe tbody tr th:only-of-type {\n",
              "        vertical-align: middle;\n",
              "    }\n",
              "\n",
              "    .dataframe tbody tr th {\n",
              "        vertical-align: top;\n",
              "    }\n",
              "\n",
              "    .dataframe thead th {\n",
              "        text-align: right;\n",
              "    }\n",
              "</style>\n",
              "<table border=\"1\" class=\"dataframe\">\n",
              "  <thead>\n",
              "    <tr style=\"text-align: right;\">\n",
              "      <th></th>\n",
              "      <th>country</th>\n",
              "      <th>year</th>\n",
              "      <th>uniqueid</th>\n",
              "      <th>Has a Bank account</th>\n",
              "      <th>Type of Location</th>\n",
              "      <th>Cell Phone Access</th>\n",
              "      <th>household_size</th>\n",
              "      <th>Respondent Age</th>\n",
              "      <th>gender_of_respondent</th>\n",
              "      <th>The relathip with head</th>\n",
              "      <th>marital_status</th>\n",
              "      <th>Level of Educuation</th>\n",
              "      <th>Type of Job</th>\n",
              "    </tr>\n",
              "  </thead>\n",
              "  <tbody>\n",
              "    <tr>\n",
              "      <th>23519</th>\n",
              "      <td>Uganda</td>\n",
              "      <td>2018</td>\n",
              "      <td>uniqueid_2113</td>\n",
              "      <td>No</td>\n",
              "      <td>Rural</td>\n",
              "      <td>Yes</td>\n",
              "      <td>4.0</td>\n",
              "      <td>48.0</td>\n",
              "      <td>Female</td>\n",
              "      <td>Head of Household</td>\n",
              "      <td>Divorced/Seperated</td>\n",
              "      <td>No formal education</td>\n",
              "      <td>Other Income</td>\n",
              "    </tr>\n",
              "    <tr>\n",
              "      <th>23520</th>\n",
              "      <td>Uganda</td>\n",
              "      <td>2018</td>\n",
              "      <td>uniqueid_2114</td>\n",
              "      <td>No</td>\n",
              "      <td>Rural</td>\n",
              "      <td>Yes</td>\n",
              "      <td>2.0</td>\n",
              "      <td>27.0</td>\n",
              "      <td>Female</td>\n",
              "      <td>Head of Household</td>\n",
              "      <td>Single/Never Married</td>\n",
              "      <td>Secondary education</td>\n",
              "      <td>Other Income</td>\n",
              "    </tr>\n",
              "    <tr>\n",
              "      <th>23521</th>\n",
              "      <td>Uganda</td>\n",
              "      <td>2018</td>\n",
              "      <td>uniqueid_2115</td>\n",
              "      <td>No</td>\n",
              "      <td>Rural</td>\n",
              "      <td>Yes</td>\n",
              "      <td>5.0</td>\n",
              "      <td>27.0</td>\n",
              "      <td>Female</td>\n",
              "      <td>Parent</td>\n",
              "      <td>Widowed</td>\n",
              "      <td>Primary education</td>\n",
              "      <td>Other Income</td>\n",
              "    </tr>\n",
              "    <tr>\n",
              "      <th>23522</th>\n",
              "      <td>Uganda</td>\n",
              "      <td>2018</td>\n",
              "      <td>uniqueid_2116</td>\n",
              "      <td>No</td>\n",
              "      <td>Urban</td>\n",
              "      <td>Yes</td>\n",
              "      <td>7.0</td>\n",
              "      <td>30.0</td>\n",
              "      <td>Female</td>\n",
              "      <td>Parent</td>\n",
              "      <td>Divorced/Seperated</td>\n",
              "      <td>Secondary education</td>\n",
              "      <td>Self employed</td>\n",
              "    </tr>\n",
              "    <tr>\n",
              "      <th>23523</th>\n",
              "      <td>Uganda</td>\n",
              "      <td>2018</td>\n",
              "      <td>uniqueid_2117</td>\n",
              "      <td>No</td>\n",
              "      <td>Rural</td>\n",
              "      <td>Yes</td>\n",
              "      <td>10.0</td>\n",
              "      <td>20.0</td>\n",
              "      <td>Male</td>\n",
              "      <td>Child</td>\n",
              "      <td>Single/Never Married</td>\n",
              "      <td>Secondary education</td>\n",
              "      <td>No Income</td>\n",
              "    </tr>\n",
              "  </tbody>\n",
              "</table>\n",
              "</div>\n",
              "      <button class=\"colab-df-convert\" onclick=\"convertToInteractive('df-186bd176-073f-4777-ad0c-63e94e11b45b')\"\n",
              "              title=\"Convert this dataframe to an interactive table.\"\n",
              "              style=\"display:none;\">\n",
              "        \n",
              "  <svg xmlns=\"http://www.w3.org/2000/svg\" height=\"24px\"viewBox=\"0 0 24 24\"\n",
              "       width=\"24px\">\n",
              "    <path d=\"M0 0h24v24H0V0z\" fill=\"none\"/>\n",
              "    <path d=\"M18.56 5.44l.94 2.06.94-2.06 2.06-.94-2.06-.94-.94-2.06-.94 2.06-2.06.94zm-11 1L8.5 8.5l.94-2.06 2.06-.94-2.06-.94L8.5 2.5l-.94 2.06-2.06.94zm10 10l.94 2.06.94-2.06 2.06-.94-2.06-.94-.94-2.06-.94 2.06-2.06.94z\"/><path d=\"M17.41 7.96l-1.37-1.37c-.4-.4-.92-.59-1.43-.59-.52 0-1.04.2-1.43.59L10.3 9.45l-7.72 7.72c-.78.78-.78 2.05 0 2.83L4 21.41c.39.39.9.59 1.41.59.51 0 1.02-.2 1.41-.59l7.78-7.78 2.81-2.81c.8-.78.8-2.07 0-2.86zM5.41 20L4 18.59l7.72-7.72 1.47 1.35L5.41 20z\"/>\n",
              "  </svg>\n",
              "      </button>\n",
              "      \n",
              "  <style>\n",
              "    .colab-df-container {\n",
              "      display:flex;\n",
              "      flex-wrap:wrap;\n",
              "      gap: 12px;\n",
              "    }\n",
              "\n",
              "    .colab-df-convert {\n",
              "      background-color: #E8F0FE;\n",
              "      border: none;\n",
              "      border-radius: 50%;\n",
              "      cursor: pointer;\n",
              "      display: none;\n",
              "      fill: #1967D2;\n",
              "      height: 32px;\n",
              "      padding: 0 0 0 0;\n",
              "      width: 32px;\n",
              "    }\n",
              "\n",
              "    .colab-df-convert:hover {\n",
              "      background-color: #E2EBFA;\n",
              "      box-shadow: 0px 1px 2px rgba(60, 64, 67, 0.3), 0px 1px 3px 1px rgba(60, 64, 67, 0.15);\n",
              "      fill: #174EA6;\n",
              "    }\n",
              "\n",
              "    [theme=dark] .colab-df-convert {\n",
              "      background-color: #3B4455;\n",
              "      fill: #D2E3FC;\n",
              "    }\n",
              "\n",
              "    [theme=dark] .colab-df-convert:hover {\n",
              "      background-color: #434B5C;\n",
              "      box-shadow: 0px 1px 3px 1px rgba(0, 0, 0, 0.15);\n",
              "      filter: drop-shadow(0px 1px 2px rgba(0, 0, 0, 0.3));\n",
              "      fill: #FFFFFF;\n",
              "    }\n",
              "  </style>\n",
              "\n",
              "      <script>\n",
              "        const buttonEl =\n",
              "          document.querySelector('#df-186bd176-073f-4777-ad0c-63e94e11b45b button.colab-df-convert');\n",
              "        buttonEl.style.display =\n",
              "          google.colab.kernel.accessAllowed ? 'block' : 'none';\n",
              "\n",
              "        async function convertToInteractive(key) {\n",
              "          const element = document.querySelector('#df-186bd176-073f-4777-ad0c-63e94e11b45b');\n",
              "          const dataTable =\n",
              "            await google.colab.kernel.invokeFunction('convertToInteractive',\n",
              "                                                     [key], {});\n",
              "          if (!dataTable) return;\n",
              "\n",
              "          const docLinkHtml = 'Like what you see? Visit the ' +\n",
              "            '<a target=\"_blank\" href=https://colab.research.google.com/notebooks/data_table.ipynb>data table notebook</a>'\n",
              "            + ' to learn more about interactive tables.';\n",
              "          element.innerHTML = '';\n",
              "          dataTable['output_type'] = 'display_data';\n",
              "          await google.colab.output.renderOutput(dataTable, element);\n",
              "          const docLink = document.createElement('div');\n",
              "          docLink.innerHTML = docLinkHtml;\n",
              "          element.appendChild(docLink);\n",
              "        }\n",
              "      </script>\n",
              "    </div>\n",
              "  </div>\n",
              "  "
            ]
          },
          "metadata": {},
          "execution_count": 290
        }
      ]
    },
    {
      "cell_type": "code",
      "source": [
        "# Determining the number of records in the finscope dataset\n",
        "print(f'The table has {finscope_df.shape} rows and columns respectively')"
      ],
      "metadata": {
        "id": "v2RvJoZ4edcO",
        "colab": {
          "base_uri": "https://localhost:8080/"
        },
        "outputId": "717331b6-d9da-4fcb-e225-511f131b0123"
      },
      "execution_count": 291,
      "outputs": [
        {
          "output_type": "stream",
          "name": "stdout",
          "text": [
            "The table has (23524, 13) rows and columns respectively\n"
          ]
        }
      ]
    },
    {
      "cell_type": "markdown",
      "source": [
        "Finscope data frame:\n",
        "- rows 23524\n",
        "- Columns 13"
      ],
      "metadata": {
        "id": "1VpGR3ARfWuY"
      }
    },
    {
      "cell_type": "code",
      "source": [
        "# Checking data types of the different columns\n",
        "finscope_df.info()"
      ],
      "metadata": {
        "id": "rG3OCijeedZ0",
        "colab": {
          "base_uri": "https://localhost:8080/"
        },
        "outputId": "9fe2ac7f-f299-4d0b-c4b3-83d32cb58c41"
      },
      "execution_count": 292,
      "outputs": [
        {
          "output_type": "stream",
          "name": "stdout",
          "text": [
            "<class 'pandas.core.frame.DataFrame'>\n",
            "RangeIndex: 23524 entries, 0 to 23523\n",
            "Data columns (total 13 columns):\n",
            " #   Column                  Non-Null Count  Dtype  \n",
            "---  ------                  --------------  -----  \n",
            " 0   country                 23510 non-null  object \n",
            " 1   year                    23524 non-null  int64  \n",
            " 2   uniqueid                23524 non-null  object \n",
            " 3   Has a Bank account      23488 non-null  object \n",
            " 4   Type of Location        23509 non-null  object \n",
            " 5   Cell Phone Access       23513 non-null  object \n",
            " 6   household_size          23496 non-null  float64\n",
            " 7   Respondent Age          23490 non-null  float64\n",
            " 8   gender_of_respondent    23490 non-null  object \n",
            " 9   The relathip with head  23520 non-null  object \n",
            " 10  marital_status          23492 non-null  object \n",
            " 11  Level of Educuation     23495 non-null  object \n",
            " 12  Type of Job             23494 non-null  object \n",
            "dtypes: float64(2), int64(1), object(10)\n",
            "memory usage: 2.3+ MB\n"
          ]
        }
      ]
    },
    {
      "cell_type": "markdown",
      "source": [
        "All the columns in the finscope dataframe had the right data types"
      ],
      "metadata": {
        "id": "oKvN7rTsffUD"
      }
    },
    {
      "cell_type": "markdown",
      "source": [
        "## 5) External data source validation"
      ],
      "metadata": {
        "id": "e5DZKgs4jen1"
      }
    },
    {
      "cell_type": "markdown",
      "source": [
        "The data was verified using the known average household sizes for two countries in the finscope data frame; Kenya and Uganda. \n",
        "- The average household size in Kenya as of 2018 was 3.9 individuals per household as per KNBS statistics\n",
        "- The average household size in Uganda as of 2018 was 4.7 individuals per household as per Ugandan Bereau of Statistics"
      ],
      "metadata": {
        "id": "XS-BBnkug5kH"
      }
    },
    {
      "cell_type": "code",
      "source": [
        "# Average household size per country\n",
        "\n",
        "av_household_size = finscope_df.groupby(['country'])['household_size'].mean()\n",
        "av_household_size"
      ],
      "metadata": {
        "id": "si1lmbYHedXu",
        "colab": {
          "base_uri": "https://localhost:8080/"
        },
        "outputId": "3fa0732e-9464-46c9-e74d-608fdf97880f"
      },
      "execution_count": 293,
      "outputs": [
        {
          "output_type": "execute_result",
          "data": {
            "text/plain": [
              "country\n",
              "Kenya       3.987310\n",
              "Rwanda      4.481838\n",
              "Tanzania    1.931432\n",
              "Uganda      4.983771\n",
              "Name: household_size, dtype: float64"
            ]
          },
          "metadata": {},
          "execution_count": 293
        }
      ]
    },
    {
      "cell_type": "markdown",
      "source": [
        "- Kenya from the data frame had an average household size of 3.987. This didn't vary significantly with the expected value of 3.9 from the kenyan census statistics\n",
        "- Uganda from the data frame had an average household size of 4.983. This didn't vary significantly with the expected value of 4.7 from the Ugandan census statistics\n",
        "- Using thi information we can conclude that the data is accurate and hence can be used for subsequent analysis"
      ],
      "metadata": {
        "id": "Wnn0avP0k600"
      }
    },
    {
      "cell_type": "markdown",
      "source": [
        "## 6) Tidying the dataset"
      ],
      "metadata": {
        "id": "kAqGhmoonHxr"
      }
    },
    {
      "cell_type": "markdown",
      "source": [
        "**1. Checking for outliers**"
      ],
      "metadata": {
        "id": "bTVmkw9H-TQk"
      }
    },
    {
      "cell_type": "code",
      "source": [
        "# Check for outliers\n",
        "column_names = ['year', 'household_size', 'Respondent Age']\n",
        "\n",
        "fig, ax = plt.subplots(len(column_names), figsize=(8,40))\n",
        "\n",
        "for i, col_val in enumerate(column_names):\n",
        "\n",
        "    sns.boxplot(y=finscope_df[col_val], ax=ax[i])\n",
        "    ax[i].set_title('Box plot - {}'.format(col_val), fontsize=10)\n",
        "    ax[i].set_xlabel(col_val, fontsize=8)\n",
        "\n",
        "plt.show()"
      ],
      "metadata": {
        "id": "1y5U4pvYedVf",
        "colab": {
          "base_uri": "https://localhost:8080/",
          "height": 0
        },
        "outputId": "f3d0ee0d-8afb-43b5-a4e1-cf42a1dccf66"
      },
      "execution_count": 294,
      "outputs": [
        {
          "output_type": "display_data",
          "data": {
            "text/plain": [
              "<Figure size 576x2880 with 3 Axes>"
            ],
            "image/png": "[encoded data removed]"
          },
          "metadata": {
            "needs_background": "light"
          }
        }
      ]
    },
    {
      "cell_type": "markdown",
      "source": [
        "- The year, respondent age, and household size all had outliers"
      ],
      "metadata": {
        "id": "v-KqT7CZ5nTY"
      }
    },
    {
      "cell_type": "markdown",
      "source": [
        "**2. Removing outliers**"
      ],
      "metadata": {
        "id": "PeL68tvo-Jdp"
      }
    },
    {
      "cell_type": "code",
      "source": [
        "# Renaming the respondent age column\n",
        "finscope_df. rename(columns = {'Respondent Age':'respondent_age'}, inplace = True)"
      ],
      "metadata": {
        "id": "PmVj8jFf7w8u"
      },
      "execution_count": 295,
      "outputs": []
    },
    {
      "cell_type": "code",
      "source": [
        "# Removing outliers\n",
        "# Removing outliers in the year column\n",
        "finscope_df1 = finscope_df [np.abs(finscope_df.year-finscope_df.year.mean()) <= (3*finscope_df .year.std())]\n",
        "\n",
        "# Remove outliers in the household size column\n",
        "finscope_df1 = finscope_df1 [np.abs(finscope_df1.household_size-finscope_df1.household_size.mean()) <= (3*finscope_df1.household_size.std())]\n",
        "\n",
        "# Remove outliers in the respondent age column\n",
        "finscope_df1 = finscope_df1 [np.abs(finscope_df1.respondent_age-finscope_df1.respondent_age.mean()) <= (3*finscope_df1.respondent_age.std())] \n",
        "\n",
        "# Show the remaining rows and columns after removing outliers\n",
        "print(f\"\"\"\n",
        "The shape of data frame before removing outliers was found to  {finscope_df.shape} rows and columns respectively, \n",
        "The shape of data frame after removing outliers was found to  {finscope_df1.shape} rows and columns respectively\n",
        "\"\"\"  )"
      ],
      "metadata": {
        "id": "p4j2wETEedTX",
        "colab": {
          "base_uri": "https://localhost:8080/"
        },
        "outputId": "2cf7023c-f097-4687-a80e-6b7045d1cab1"
      },
      "execution_count": 296,
      "outputs": [
        {
          "output_type": "stream",
          "name": "stdout",
          "text": [
            "\n",
            "The shape of data frame before removing outliers was found to  (23524, 13) rows and columns respectively, \n",
            "The shape of data frame after removing outliers was found to  (23180, 13) rows and columns respectively\n",
            "\n"
          ]
        }
      ]
    },
    {
      "cell_type": "markdown",
      "source": [
        "- A total of 344 records were lost after the outliers in year, respondent age, and household size were dealt with"
      ],
      "metadata": {
        "id": "yRZiqW_B9pxd"
      }
    },
    {
      "cell_type": "markdown",
      "source": [
        "**3. Checking and dealing with null values**"
      ],
      "metadata": {
        "id": "GIqkwxp1_gAE"
      }
    },
    {
      "cell_type": "code",
      "source": [
        "# Checking null values\n",
        "finscope_df1.isnull().values.any()"
      ],
      "metadata": {
        "id": "Rn3wT6jS_o85",
        "colab": {
          "base_uri": "https://localhost:8080/"
        },
        "outputId": "dce46d2a-c843-4851-9fd7-0ddfe6dd1906"
      },
      "execution_count": 297,
      "outputs": [
        {
          "output_type": "execute_result",
          "data": {
            "text/plain": [
              "True"
            ]
          },
          "metadata": {},
          "execution_count": 297
        }
      ]
    },
    {
      "cell_type": "markdown",
      "source": [
        "- The data set has null values"
      ],
      "metadata": {
        "id": "MXCDwmL_AN1h"
      }
    },
    {
      "cell_type": "code",
      "source": [
        "# Checking the null values per attribute\n",
        "finscope_df1.isnull().sum()"
      ],
      "metadata": {
        "id": "XMjLC8hd_o2k",
        "colab": {
          "base_uri": "https://localhost:8080/"
        },
        "outputId": "e8257aef-dea4-4865-9132-8d83f96e6cc5"
      },
      "execution_count": 298,
      "outputs": [
        {
          "output_type": "execute_result",
          "data": {
            "text/plain": [
              "country                   14\n",
              "year                       0\n",
              "uniqueid                   0\n",
              "Has a Bank account        33\n",
              "Type of Location          15\n",
              "Cell Phone Access         11\n",
              "household_size             0\n",
              "respondent_age             0\n",
              "gender_of_respondent      26\n",
              "The relathip with head     0\n",
              "marital_status            27\n",
              "Level of Educuation       25\n",
              "Type of Job               26\n",
              "dtype: int64"
            ]
          },
          "metadata": {},
          "execution_count": 298
        }
      ]
    },
    {
      "cell_type": "markdown",
      "source": [
        "- Year, uniqueID , household size, respondent age, relationship with head all lacked missing values\n",
        "- The following are the columns with their missing values; \n",
        "-- country                   14\n",
        "-- Has a Bank account        33\n",
        "-- Type of Location          15\n",
        "-- Cell Phone Access         11\n",
        "-- gender_of_respondent      26\n",
        "-- marital_status            27\n",
        "-- Level of Educuation       25\n",
        "-- Type of Job               26\n",
        "\n",
        "- Has bank account had the most missing values 33 while cell phone access had the least missing values\n",
        "\n",
        "- The missing values can be attributed to either the respondent failing to provide an answer to that attribute or error in recording the respondents response"
      ],
      "metadata": {
        "id": "tozsWXHABD1c"
      }
    },
    {
      "cell_type": "code",
      "source": [
        "# Check the percentage missing values per column\n",
        "percent_missing = finscope_df1.isnull(). sum() * 100 / len(finscope_df1)\n",
        "percent_missing"
      ],
      "metadata": {
        "id": "pP0Yy5F3A1Yx",
        "colab": {
          "base_uri": "https://localhost:8080/"
        },
        "outputId": "3944b6f3-31ec-4c4c-8ca3-deb5fd9f5982"
      },
      "execution_count": 299,
      "outputs": [
        {
          "output_type": "execute_result",
          "data": {
            "text/plain": [
              "country                   0.060397\n",
              "year                      0.000000\n",
              "uniqueid                  0.000000\n",
              "Has a Bank account        0.142364\n",
              "Type of Location          0.064711\n",
              "Cell Phone Access         0.047455\n",
              "household_size            0.000000\n",
              "respondent_age            0.000000\n",
              "gender_of_respondent      0.112166\n",
              "The relathip with head    0.000000\n",
              "marital_status            0.116480\n",
              "Level of Educuation       0.107852\n",
              "Type of Job               0.112166\n",
              "dtype: float64"
            ]
          },
          "metadata": {},
          "execution_count": 299
        }
      ]
    },
    {
      "cell_type": "markdown",
      "source": [
        "- All attributes with missing values had missing values accounting for less than 1% of the total data observations\n",
        "- Hence the entries with missing values will be dropped since they will not affect the data significantly"
      ],
      "metadata": {
        "id": "4rBPO8nDCNcS"
      }
    },
    {
      "cell_type": "code",
      "source": [
        "# Dropping missing values\n",
        "finscope_df2 = finscope_df1.dropna(axis = 0, how ='any', thresh = None, subset = None, inplace=False)\n",
        "\n",
        "# Shape of finscope data set after dropping missing values\n",
        "print(f\"\"\"\n",
        "The finscope_df1 dataframe before dropping null values had {finscope_df1.shape} rows and columns respectively , \n",
        "The finscope_df2 dataframe after dropping null values had {finscope_df2.shape} rows and columns respectively, \n",
        "which accounted for {(1- len(finscope_df2)/ len(finscope_df1)) *100} percent of total data\n",
        "\"\"\")"
      ],
      "metadata": {
        "id": "mmmkDO1kCjVh",
        "colab": {
          "base_uri": "https://localhost:8080/"
        },
        "outputId": "5cfd12f9-5ac0-4851-a1e7-7091e3181b2d"
      },
      "execution_count": 300,
      "outputs": [
        {
          "output_type": "stream",
          "name": "stdout",
          "text": [
            "\n",
            "The finscope_df1 dataframe before dropping null values had (23180, 13) rows and columns respectively , \n",
            "The finscope_df2 dataframe after dropping null values had (23055, 13) rows and columns respectively, \n",
            "which accounted for 0.5392579810181153 percent of total data\n",
            "\n"
          ]
        }
      ]
    },
    {
      "cell_type": "markdown",
      "source": [
        "- Only 0.539% of the data from finscope_df1 dataframe was lost upon eliminating all null values"
      ],
      "metadata": {
        "id": "y_H6lO0WD9t6"
      }
    },
    {
      "cell_type": "markdown",
      "source": [
        "**4. Check for anomalies after removing outliers**"
      ],
      "metadata": {
        "id": "fPMNnQpE-AEU"
      }
    },
    {
      "cell_type": "code",
      "source": [
        "# Checking for anomalies in country of respondent\n",
        "finscope_df2['country'].unique()"
      ],
      "metadata": {
        "colab": {
          "base_uri": "https://localhost:8080/"
        },
        "id": "u2xFiyQWHwoc",
        "outputId": "41292fbc-8fc1-4d5a-fb72-ba54d6c7bd53"
      },
      "execution_count": 301,
      "outputs": [
        {
          "output_type": "execute_result",
          "data": {
            "text/plain": [
              "array(['Kenya', 'Rwanda', 'Tanzania', 'Uganda'], dtype=object)"
            ]
          },
          "metadata": {},
          "execution_count": 301
        }
      ]
    },
    {
      "cell_type": "markdown",
      "source": [
        "- **Anomally not found**\n",
        "- There were 4 countries being studied; Kenya, Uganda, tanzania, and rwanda. \n",
        "- The attribute country had only those four countries. No anomalies were found"
      ],
      "metadata": {
        "id": "C7z9Yg71JGe2"
      }
    },
    {
      "cell_type": "code",
      "source": [
        "# Checking for anomalies in year\n",
        "finscope_df2['year'].unique()"
      ],
      "metadata": {
        "id": "6RD65j4jedRK",
        "colab": {
          "base_uri": "https://localhost:8080/"
        },
        "outputId": "1002ee7b-0f08-4d88-df70-87835d279f13"
      },
      "execution_count": 302,
      "outputs": [
        {
          "output_type": "execute_result",
          "data": {
            "text/plain": [
              "array([2018, 2016, 2017])"
            ]
          },
          "metadata": {},
          "execution_count": 302
        }
      ]
    },
    {
      "cell_type": "markdown",
      "source": [
        "- **Anomally not found**\n",
        "- The study ran for 3 years; 2018, 2016, 2017\n",
        "- The year attribute in the data frame had solely those three entries\n",
        "- No anomalies were detected in the year column"
      ],
      "metadata": {
        "id": "6qdkEnWFJcrh"
      }
    },
    {
      "cell_type": "code",
      "source": [
        "# checking for anomalies in uniqueid\n",
        "finscope_df2['uniqueid'].describe()"
      ],
      "metadata": {
        "colab": {
          "base_uri": "https://localhost:8080/"
        },
        "id": "wnOlK1D1H6ce",
        "outputId": "5d77b53b-1952-490e-8bb0-1074bc957734"
      },
      "execution_count": 303,
      "outputs": [
        {
          "output_type": "execute_result",
          "data": {
            "text/plain": [
              "count          23055\n",
              "unique          8678\n",
              "top       uniqueid_1\n",
              "freq               4\n",
              "Name: uniqueid, dtype: object"
            ]
          },
          "metadata": {},
          "execution_count": 303
        }
      ]
    },
    {
      "cell_type": "markdown",
      "source": [
        "- **Anomally not found**\n",
        "- No anomalies in the unique Id attribute in the dataframe"
      ],
      "metadata": {
        "id": "K895PRigJuIz"
      }
    },
    {
      "cell_type": "code",
      "source": [
        "# checking for anomalies in Has a Bank account\n",
        "finscope_df2['Has a Bank account'].describe()"
      ],
      "metadata": {
        "colab": {
          "base_uri": "https://localhost:8080/"
        },
        "id": "fM9fO3i6IFn6",
        "outputId": "83b2205b-133b-4537-a6bf-06e71e7a1e44"
      },
      "execution_count": 304,
      "outputs": [
        {
          "output_type": "execute_result",
          "data": {
            "text/plain": [
              "count     23055\n",
              "unique        2\n",
              "top          No\n",
              "freq      19785\n",
              "Name: Has a Bank account, dtype: object"
            ]
          },
          "metadata": {},
          "execution_count": 304
        }
      ]
    },
    {
      "cell_type": "markdown",
      "source": [
        "- **Anomally not found**\n",
        "- There were two expected entries in the 'has bank account' attribute in the dataframe;\n",
        "            Yes\n",
        "            No\n",
        "- No other unusual entries were recorded in the 'has bank account' data frame column aside from the two"
      ],
      "metadata": {
        "id": "Ym77NIuEJ2KU"
      }
    },
    {
      "cell_type": "code",
      "source": [
        "# checking for anomalies in Cell Phone Access\n",
        "finscope_df2['Cell Phone Access'].describe()"
      ],
      "metadata": {
        "colab": {
          "base_uri": "https://localhost:8080/"
        },
        "id": "jMBeU2XhIN4W",
        "outputId": "95429504-abc7-4366-a16d-8e7112a48b26"
      },
      "execution_count": 305,
      "outputs": [
        {
          "output_type": "execute_result",
          "data": {
            "text/plain": [
              "count     23055\n",
              "unique        2\n",
              "top         Yes\n",
              "freq      17184\n",
              "Name: Cell Phone Access, dtype: object"
            ]
          },
          "metadata": {},
          "execution_count": 305
        }
      ]
    },
    {
      "cell_type": "markdown",
      "source": [
        "- **Anomally not found**\n",
        "- There were two expected entries in the 'Cell Phone Access' attribute in the dataframe;\n",
        "            Yes\n",
        "            No\n",
        "- No other unusual entries were recorded in the 'Cell Phone Access' data frame column aside from the two"
      ],
      "metadata": {
        "id": "rhe2o7c4KUH6"
      }
    },
    {
      "cell_type": "code",
      "source": [
        "# Checking for anomalies in household size column\n",
        "finscope_df1['household_size'].unique()"
      ],
      "metadata": {
        "id": "Fegt0al4-yIB",
        "colab": {
          "base_uri": "https://localhost:8080/"
        },
        "outputId": "ac3d6f31-c37c-426f-c417-9f00566d6208"
      },
      "execution_count": 306,
      "outputs": [
        {
          "output_type": "execute_result",
          "data": {
            "text/plain": [
              "array([ 3.,  5.,  8.,  7.,  1.,  6.,  4., 10.,  2.,  9.,  0.])"
            ]
          },
          "metadata": {},
          "execution_count": 306
        }
      ]
    },
    {
      "cell_type": "markdown",
      "source": [
        "- **Anomally found**\n",
        "- There expected entries in the 'Household size ' attribute in the dataframe should all be greater than 1. \n",
        "- No household can exist with 0 individuals\n",
        "- Household size entry of 0 was recorded in the data frame"
      ],
      "metadata": {
        "id": "77xFEI39LIPV"
      }
    },
    {
      "cell_type": "code",
      "source": [
        "# Checking for anomalies in respondent age\n",
        "finscope_df2['respondent_age'].unique()\n"
      ],
      "metadata": {
        "colab": {
          "base_uri": "https://localhost:8080/"
        },
        "id": "aUsvy18O-yKn",
        "outputId": "8ef286f6-84ed-4051-8d2a-f269e8ec30c4"
      },
      "execution_count": 307,
      "outputs": [
        {
          "output_type": "execute_result",
          "data": {
            "text/plain": [
              "array([24., 70., 26., 34., 32., 42., 54., 76., 40., 69., 64., 31., 38.,\n",
              "       47., 27., 48., 25., 21., 18., 22., 58., 55., 62., 29., 35., 45.,\n",
              "       67., 19., 80., 66., 50., 33., 28., 51., 16., 17., 30., 37., 59.,\n",
              "       65., 46., 56., 52., 23., 43., 49., 44., 72., 53., 63., 39., 81.,\n",
              "       78., 36., 20., 60., 71., 57., 85., 68., 41., 61., 75., 86., 73.,\n",
              "       74., 88., 77., 84., 82., 79., 83., 87.])"
            ]
          },
          "metadata": {},
          "execution_count": 307
        }
      ]
    },
    {
      "cell_type": "markdown",
      "source": [
        "- **Anomally not found**\n",
        "- Ages of the respondents fell between 23- 88 years\n",
        "- All these ages ae consitent with most age distributions of bank account holders"
      ],
      "metadata": {
        "id": "VncM64JFMBA3"
      }
    },
    {
      "cell_type": "code",
      "source": [
        "# Checking for anomalies in gender of respondent\n",
        "finscope_df2['gender_of_respondent'].unique()"
      ],
      "metadata": {
        "colab": {
          "base_uri": "https://localhost:8080/"
        },
        "id": "rpMJwE5NHpBN",
        "outputId": "d45be18e-3825-487a-9af8-585b20e6a484"
      },
      "execution_count": 308,
      "outputs": [
        {
          "output_type": "execute_result",
          "data": {
            "text/plain": [
              "array(['Female', 'Male'], dtype=object)"
            ]
          },
          "metadata": {},
          "execution_count": 308
        }
      ]
    },
    {
      "cell_type": "markdown",
      "source": [
        "- **Anomally not found**\n",
        "- There were two expected entries in the 'Gender of respondent' attribute in the dataframe;\n",
        "            Female\n",
        "            Male\n",
        "- No other unusual entries were recorded in the 'Gender of respondent' data frame column aside from the two"
      ],
      "metadata": {
        "id": "-k4HZHwoK7ul"
      }
    },
    {
      "cell_type": "code",
      "source": [
        "# Checking for anomalies in The relathip with head\n",
        "finscope_df2['The relathip with head'].unique()"
      ],
      "metadata": {
        "colab": {
          "base_uri": "https://localhost:8080/"
        },
        "id": "XFGMfyYWIbYk",
        "outputId": "07c2f66f-ae43-486a-c422-4d7c6cf697a4"
      },
      "execution_count": 309,
      "outputs": [
        {
          "output_type": "execute_result",
          "data": {
            "text/plain": [
              "array(['Spouse', 'Head of Household', 'Other relative', 'Child', 'Parent',\n",
              "       'Other non-relatives'], dtype=object)"
            ]
          },
          "metadata": {},
          "execution_count": 309
        }
      ]
    },
    {
      "cell_type": "markdown",
      "source": [
        "- **Anomally not found**\n",
        "- All relations recorded were expected among people in a society"
      ],
      "metadata": {
        "id": "AK2AuTS0MY4K"
      }
    },
    {
      "cell_type": "code",
      "source": [
        "# Checking for anomalies in marital_status\n",
        "finscope_df2['marital_status'].unique()"
      ],
      "metadata": {
        "colab": {
          "base_uri": "https://localhost:8080/"
        },
        "id": "hiDs5pDcIbL7",
        "outputId": "51b844da-7433-4a90-b5d4-3c7ed174f19a"
      },
      "execution_count": 310,
      "outputs": [
        {
          "output_type": "execute_result",
          "data": {
            "text/plain": [
              "array(['Married/Living together', 'Widowed', 'Single/Never Married',\n",
              "       'Divorced/Seperated', 'Dont know'], dtype=object)"
            ]
          },
          "metadata": {},
          "execution_count": 310
        }
      ]
    },
    {
      "cell_type": "markdown",
      "source": [
        "- **Anomally found**\n",
        "- The expected marital status responses are ; 'Married/Living together', 'Widowed', 'Single/Never Married', 'Divorced/Seperated',\n",
        "- However a response of 'Dont Know' was recorded"
      ],
      "metadata": {
        "id": "0CXa-zBCMoHe"
      }
    },
    {
      "cell_type": "code",
      "source": [
        "# Checking for anomalies in Level of Educuation \n",
        "finscope_df2['Level of Educuation'].unique()"
      ],
      "metadata": {
        "colab": {
          "base_uri": "https://localhost:8080/"
        },
        "id": "r2z1UQwjIbDr",
        "outputId": "cfaa3430-59d9-492a-8313-586d7ae7fb81"
      },
      "execution_count": 311,
      "outputs": [
        {
          "output_type": "execute_result",
          "data": {
            "text/plain": [
              "array(['Secondary education', 'No formal education',\n",
              "       'Vocational/Specialised training', 'Primary education',\n",
              "       'Tertiary education', 'Other/Dont know/RTA', '6'], dtype=object)"
            ]
          },
          "metadata": {},
          "execution_count": 311
        }
      ]
    },
    {
      "cell_type": "markdown",
      "source": [
        "- **Anomally Found**\n",
        "- Expected responses to level of education are; 'Secondary education', 'No formal education', 'Vocational/Specialised training', 'Primary education', and 'Tertiary education'\n",
        "- A response 'Other' is also acceptable if that level of education is not caputured in questionaire\n",
        "- However a response on level of education as '6' was recorded."
      ],
      "metadata": {
        "id": "QFeYbhVkM_IR"
      }
    },
    {
      "cell_type": "code",
      "source": [
        "# Checking for anomalies in Type of Job \n",
        "finscope_df2['Type of Job'].unique()"
      ],
      "metadata": {
        "colab": {
          "base_uri": "https://localhost:8080/"
        },
        "id": "u_G1VpEGIzS1",
        "outputId": "518b17c9-f3fa-440d-e1a5-85f27066cb32"
      },
      "execution_count": 312,
      "outputs": [
        {
          "output_type": "execute_result",
          "data": {
            "text/plain": [
              "array(['Self employed', 'Government Dependent',\n",
              "       'Formally employed Private', 'Informally employed',\n",
              "       'Formally employed Government', 'Farming and Fishing',\n",
              "       'Remittance Dependent', 'Other Income',\n",
              "       'Dont Know/Refuse to answer', 'No Income'], dtype=object)"
            ]
          },
          "metadata": {},
          "execution_count": 312
        }
      ]
    },
    {
      "cell_type": "markdown",
      "source": [
        "- **Anomally not Found**\n",
        "- All responses indicating once source of income fell within the expected occupation roles of individuals in society"
      ],
      "metadata": {
        "id": "6dFcJfedN7xt"
      }
    },
    {
      "cell_type": "markdown",
      "source": [
        "**5. Dealing with anomalies**"
      ],
      "metadata": {
        "id": "FqR9SLNaOJhc"
      }
    },
    {
      "cell_type": "markdown",
      "source": [
        "Anomalies were recorded;\n",
        "- Household size: anomally - '0'\n",
        "- Marital status: anomally - 'Dont Know'\n",
        "- Level of education; anomally - '6'\n"
      ],
      "metadata": {
        "id": "8lknsZFmOx5i"
      }
    },
    {
      "cell_type": "markdown",
      "source": [
        "**A. Household size**"
      ],
      "metadata": {
        "id": "spqY74oKUOVw"
      }
    },
    {
      "cell_type": "code",
      "source": [
        "# Dealing with anomaly in year\n",
        "household_size = finscope_df2[finscope_df2['household_size']== 0]\n",
        "\n",
        "# percentage of records with household sizes of 0\n",
        "percentage = len(household_size)/ len(finscope_df2) * 100\n",
        "\n",
        "# printing output\n",
        "print(f\"\"\"\n",
        "Number of recodes with household size of 0 {household_size.shape}.\n",
        "Percentage of records with household size of 0 {percentage}.\n",
        "\n",
        "\"\"\")"
      ],
      "metadata": {
        "colab": {
          "base_uri": "https://localhost:8080/"
        },
        "id": "MEUkbHawOecS",
        "outputId": "6ead7ce9-84c5-43eb-989d-1ada2a079b15"
      },
      "execution_count": 313,
      "outputs": [
        {
          "output_type": "stream",
          "name": "stdout",
          "text": [
            "\n",
            "Number of recodes with household size of 0 (33, 13).\n",
            "Percentage of records with household size of 0 0.1431359791802212.\n",
            "\n",
            "\n"
          ]
        }
      ]
    },
    {
      "cell_type": "markdown",
      "source": [
        "- There are a total of 33 records with house_hold sizes of zero which ammounted to 0.1431%\n",
        "- Hence these records can be dropped"
      ],
      "metadata": {
        "id": "wCQnkmNaQSKw"
      }
    },
    {
      "cell_type": "code",
      "source": [
        "# Dropping records with household sizes of zero\n",
        "finscope_df3 = finscope_df2[finscope_df2['household_size'] > 0]\n",
        "finscope_df3.shape"
      ],
      "metadata": {
        "colab": {
          "base_uri": "https://localhost:8080/"
        },
        "id": "5RQjJF62R1XV",
        "outputId": "f3bf8400-7e50-42bc-890b-e78b6a6508c4"
      },
      "execution_count": 314,
      "outputs": [
        {
          "output_type": "execute_result",
          "data": {
            "text/plain": [
              "(23022, 13)"
            ]
          },
          "metadata": {},
          "execution_count": 314
        }
      ]
    },
    {
      "cell_type": "markdown",
      "source": [
        "- 33 Records with household sizes of zero dropped"
      ],
      "metadata": {
        "id": "LtG4mGHiTwbX"
      }
    },
    {
      "cell_type": "markdown",
      "source": [
        "**b. Marital status**"
      ],
      "metadata": {
        "id": "M8-FJdA2UT3I"
      }
    },
    {
      "cell_type": "code",
      "source": [
        "# Dealing with anomally in Marital status\n",
        "marital_status = finscope_df3[finscope_df3['marital_status'] == 'Dont know']\n",
        "\n",
        "# percentage of records with household sizes of 0\n",
        "percentage1 = len(marital_status)/ len(finscope_df3) * 100\n",
        "\n",
        "# printing output\n",
        "print(f\"\"\"\n",
        "Number of recodes with household size of 0 {marital_status.shape}.\n",
        "Percentage of records with household size of 0 {percentage1}.\n",
        "\n",
        "\"\"\")"
      ],
      "metadata": {
        "colab": {
          "base_uri": "https://localhost:8080/"
        },
        "id": "6fQ-rSnyULzK",
        "outputId": "62770021-af42-4afd-a730-cb501b31488a"
      },
      "execution_count": 315,
      "outputs": [
        {
          "output_type": "stream",
          "name": "stdout",
          "text": [
            "\n",
            "Number of recodes with household size of 0 (8, 13).\n",
            "Percentage of records with household size of 0 0.03474937016766571.\n",
            "\n",
            "\n"
          ]
        }
      ]
    },
    {
      "cell_type": "markdown",
      "source": [
        "- There are only 8 records with that anomally in the marital status atrribute\n",
        "- It accounts for 0.03475 % hence can be dropped"
      ],
      "metadata": {
        "id": "Rzfxol1RU9KG"
      }
    },
    {
      "cell_type": "code",
      "source": [
        "# Dropping records with marital status of 'dont know'\n",
        "finscope_df3 = finscope_df3[finscope_df3['marital_status'] != 'Dont know']\n",
        "finscope_df3.shape"
      ],
      "metadata": {
        "colab": {
          "base_uri": "https://localhost:8080/"
        },
        "id": "mdiHRQsPT1Xi",
        "outputId": "3a22365e-a00d-49ed-e0f0-2f66f9b76cf9"
      },
      "execution_count": 316,
      "outputs": [
        {
          "output_type": "execute_result",
          "data": {
            "text/plain": [
              "(23014, 13)"
            ]
          },
          "metadata": {},
          "execution_count": 316
        }
      ]
    },
    {
      "cell_type": "markdown",
      "source": [
        "- 8 records dropped from the dataframe"
      ],
      "metadata": {
        "id": "S5Ep19fZVVvc"
      }
    },
    {
      "cell_type": "markdown",
      "source": [
        "**c. Level of education**"
      ],
      "metadata": {
        "id": "dilCuljkUZDk"
      }
    },
    {
      "cell_type": "code",
      "source": [
        "# Dealing with anomally in Level of education\n",
        "education_level = finscope_df3[finscope_df3['Level of Educuation'] == '6']\n",
        "\n",
        "# percentage of records with household sizes of 0\n",
        "percentage2 = len(education_level)/ len(finscope_df3) * 100\n",
        "\n",
        "# printing output\n",
        "print(f\"\"\"\n",
        "Number of recodes with household size of 0 {education_level.shape}.\n",
        "Percentage of records with household size of 0 {percentage2}.\n",
        "\n",
        "\"\"\")"
      ],
      "metadata": {
        "colab": {
          "base_uri": "https://localhost:8080/"
        },
        "id": "dm1rt38RVcSf",
        "outputId": "7daa26fe-b288-46c9-e975-70fe648dbc28"
      },
      "execution_count": 317,
      "outputs": [
        {
          "output_type": "stream",
          "name": "stdout",
          "text": [
            "\n",
            "Number of recodes with household size of 0 (26, 13).\n",
            "Percentage of records with household size of 0 0.1129747110454506.\n",
            "\n",
            "\n"
          ]
        }
      ]
    },
    {
      "cell_type": "markdown",
      "source": [
        "- There are only 26 records with this anommaly\n",
        "- They account for 0.11297% of all records in data frame hence can be dropped"
      ],
      "metadata": {
        "id": "mULn_dBYVzcS"
      }
    },
    {
      "cell_type": "code",
      "source": [
        "# Dropping records with marital status of 'dont know'\n",
        "finscope_df3 = finscope_df3[finscope_df3['Level of Educuation'] != '6']\n",
        "finscope_df3.shape"
      ],
      "metadata": {
        "colab": {
          "base_uri": "https://localhost:8080/"
        },
        "id": "bibAIBe0VcKX",
        "outputId": "df9c7d4b-de38-460a-dd2a-248c25ad9777"
      },
      "execution_count": 318,
      "outputs": [
        {
          "output_type": "execute_result",
          "data": {
            "text/plain": [
              "(22988, 13)"
            ]
          },
          "metadata": {},
          "execution_count": 318
        }
      ]
    },
    {
      "cell_type": "markdown",
      "source": [
        "- 26 records from the original dataframe were dropped"
      ],
      "metadata": {
        "id": "OwXkMTgWWNvy"
      }
    },
    {
      "cell_type": "markdown",
      "source": [
        "6. **Renaming Column Names**"
      ],
      "metadata": {
        "id": "u9V6UakDWbgd"
      }
    },
    {
      "cell_type": "code",
      "source": [
        "finscope_df3.columns"
      ],
      "metadata": {
        "colab": {
          "base_uri": "https://localhost:8080/"
        },
        "id": "YEbk6NCaW771",
        "outputId": "9bddf141-1001-4663-bb37-2400bdd6527b"
      },
      "execution_count": 319,
      "outputs": [
        {
          "output_type": "execute_result",
          "data": {
            "text/plain": [
              "Index(['country', 'year', 'uniqueid', 'Has a Bank account', 'Type of Location',\n",
              "       'Cell Phone Access', 'household_size', 'respondent_age',\n",
              "       'gender_of_respondent', 'The relathip with head', 'marital_status',\n",
              "       'Level of Educuation', 'Type of Job'],\n",
              "      dtype='object')"
            ]
          },
          "metadata": {},
          "execution_count": 319
        }
      ]
    },
    {
      "cell_type": "code",
      "source": [
        "# Renaming column names\n",
        "finscope_df3.rename(columns = {'country': 'Country', 'year': 'Year', 'uniqueid': 'UniqueID', 'Has a Bank account': 'Has a Bank Account', \n",
        "                                'Type of Location': 'Type of Location', 'Cell Phone Access': 'Cell Phone Access', 'household_size': 'Household Size',\n",
        "                                'respondent_age': 'Respondent Age', 'gender_of_respondent': 'Respondent Gender', 'The relathip with head': 'Relationship with Head', \n",
        "                                'marital_status': 'Marital Status', 'Level of Educuation': 'Level of Educuation', 'Type of Job': 'Type of Job'}, inplace = True)\n",
        "finscope_clean = finscope_df3\n",
        "finscope_clean.head(1)"
      ],
      "metadata": {
        "colab": {
          "base_uri": "https://localhost:8080/",
          "height": 0
        },
        "id": "RQS1lSYPWp9E",
        "outputId": "56237a8f-5075-4e6e-87d0-feda79551b0d"
      },
      "execution_count": 320,
      "outputs": [
        {
          "output_type": "execute_result",
          "data": {
            "text/plain": [
              "  Country  Year    UniqueID Has a Bank Account Type of Location  \\\n",
              "0   Kenya  2018  uniqueid_1                Yes            Rural   \n",
              "\n",
              "  Cell Phone Access  Household Size  Respondent Age Respondent Gender  \\\n",
              "0               Yes             3.0            24.0            Female   \n",
              "\n",
              "  Relationship with Head           Marital Status  Level of Educuation  \\\n",
              "0                 Spouse  Married/Living together  Secondary education   \n",
              "\n",
              "     Type of Job  \n",
              "0  Self employed  "
            ],
            "text/html": [
              "\n",
              "  <div id=\"df-bbcefcc0-e788-4cb7-80d8-b8c17622203a\">\n",
              "    <div class=\"colab-df-container\">\n",
              "      <div>\n",
              "<style scoped>\n",
              "    .dataframe tbody tr th:only-of-type {\n",
              "        vertical-align: middle;\n",
              "    }\n",
              "\n",
              "    .dataframe tbody tr th {\n",
              "        vertical-align: top;\n",
              "    }\n",
              "\n",
              "    .dataframe thead th {\n",
              "        text-align: right;\n",
              "    }\n",
              "</style>\n",
              "<table border=\"1\" class=\"dataframe\">\n",
              "  <thead>\n",
              "    <tr style=\"text-align: right;\">\n",
              "      <th></th>\n",
              "      <th>Country</th>\n",
              "      <th>Year</th>\n",
              "      <th>UniqueID</th>\n",
              "      <th>Has a Bank Account</th>\n",
              "      <th>Type of Location</th>\n",
              "      <th>Cell Phone Access</th>\n",
              "      <th>Household Size</th>\n",
              "      <th>Respondent Age</th>\n",
              "      <th>Respondent Gender</th>\n",
              "      <th>Relationship with Head</th>\n",
              "      <th>Marital Status</th>\n",
              "      <th>Level of Educuation</th>\n",
              "      <th>Type of Job</th>\n",
              "    </tr>\n",
              "  </thead>\n",
              "  <tbody>\n",
              "    <tr>\n",
              "      <th>0</th>\n",
              "      <td>Kenya</td>\n",
              "      <td>2018</td>\n",
              "      <td>uniqueid_1</td>\n",
              "      <td>Yes</td>\n",
              "      <td>Rural</td>\n",
              "      <td>Yes</td>\n",
              "      <td>3.0</td>\n",
              "      <td>24.0</td>\n",
              "      <td>Female</td>\n",
              "      <td>Spouse</td>\n",
              "      <td>Married/Living together</td>\n",
              "      <td>Secondary education</td>\n",
              "      <td>Self employed</td>\n",
              "    </tr>\n",
              "  </tbody>\n",
              "</table>\n",
              "</div>\n",
              "      <button class=\"colab-df-convert\" onclick=\"convertToInteractive('df-bbcefcc0-e788-4cb7-80d8-b8c17622203a')\"\n",
              "              title=\"Convert this dataframe to an interactive table.\"\n",
              "              style=\"display:none;\">\n",
              "        \n",
              "  <svg xmlns=\"http://www.w3.org/2000/svg\" height=\"24px\"viewBox=\"0 0 24 24\"\n",
              "       width=\"24px\">\n",
              "    <path d=\"M0 0h24v24H0V0z\" fill=\"none\"/>\n",
              "    <path d=\"M18.56 5.44l.94 2.06.94-2.06 2.06-.94-2.06-.94-.94-2.06-.94 2.06-2.06.94zm-11 1L8.5 8.5l.94-2.06 2.06-.94-2.06-.94L8.5 2.5l-.94 2.06-2.06.94zm10 10l.94 2.06.94-2.06 2.06-.94-2.06-.94-.94-2.06-.94 2.06-2.06.94z\"/><path d=\"M17.41 7.96l-1.37-1.37c-.4-.4-.92-.59-1.43-.59-.52 0-1.04.2-1.43.59L10.3 9.45l-7.72 7.72c-.78.78-.78 2.05 0 2.83L4 21.41c.39.39.9.59 1.41.59.51 0 1.02-.2 1.41-.59l7.78-7.78 2.81-2.81c.8-.78.8-2.07 0-2.86zM5.41 20L4 18.59l7.72-7.72 1.47 1.35L5.41 20z\"/>\n",
              "  </svg>\n",
              "      </button>\n",
              "      \n",
              "  <style>\n",
              "    .colab-df-container {\n",
              "      display:flex;\n",
              "      flex-wrap:wrap;\n",
              "      gap: 12px;\n",
              "    }\n",
              "\n",
              "    .colab-df-convert {\n",
              "      background-color: #E8F0FE;\n",
              "      border: none;\n",
              "      border-radius: 50%;\n",
              "      cursor: pointer;\n",
              "      display: none;\n",
              "      fill: #1967D2;\n",
              "      height: 32px;\n",
              "      padding: 0 0 0 0;\n",
              "      width: 32px;\n",
              "    }\n",
              "\n",
              "    .colab-df-convert:hover {\n",
              "      background-color: #E2EBFA;\n",
              "      box-shadow: 0px 1px 2px rgba(60, 64, 67, 0.3), 0px 1px 3px 1px rgba(60, 64, 67, 0.15);\n",
              "      fill: #174EA6;\n",
              "    }\n",
              "\n",
              "    [theme=dark] .colab-df-convert {\n",
              "      background-color: #3B4455;\n",
              "      fill: #D2E3FC;\n",
              "    }\n",
              "\n",
              "    [theme=dark] .colab-df-convert:hover {\n",
              "      background-color: #434B5C;\n",
              "      box-shadow: 0px 1px 3px 1px rgba(0, 0, 0, 0.15);\n",
              "      filter: drop-shadow(0px 1px 2px rgba(0, 0, 0, 0.3));\n",
              "      fill: #FFFFFF;\n",
              "    }\n",
              "  </style>\n",
              "\n",
              "      <script>\n",
              "        const buttonEl =\n",
              "          document.querySelector('#df-bbcefcc0-e788-4cb7-80d8-b8c17622203a button.colab-df-convert');\n",
              "        buttonEl.style.display =\n",
              "          google.colab.kernel.accessAllowed ? 'block' : 'none';\n",
              "\n",
              "        async function convertToInteractive(key) {\n",
              "          const element = document.querySelector('#df-bbcefcc0-e788-4cb7-80d8-b8c17622203a');\n",
              "          const dataTable =\n",
              "            await google.colab.kernel.invokeFunction('convertToInteractive',\n",
              "                                                     [key], {});\n",
              "          if (!dataTable) return;\n",
              "\n",
              "          const docLinkHtml = 'Like what you see? Visit the ' +\n",
              "            '<a target=\"_blank\" href=https://colab.research.google.com/notebooks/data_table.ipynb>data table notebook</a>'\n",
              "            + ' to learn more about interactive tables.';\n",
              "          element.innerHTML = '';\n",
              "          dataTable['output_type'] = 'display_data';\n",
              "          await google.colab.output.renderOutput(dataTable, element);\n",
              "          const docLink = document.createElement('div');\n",
              "          docLink.innerHTML = docLinkHtml;\n",
              "          element.appendChild(docLink);\n",
              "        }\n",
              "      </script>\n",
              "    </div>\n",
              "  </div>\n",
              "  "
            ]
          },
          "metadata": {},
          "execution_count": 320
        }
      ]
    },
    {
      "cell_type": "markdown",
      "source": [
        "## 7) Univariant Analysis"
      ],
      "metadata": {
        "id": "mtNYNYI-ZesU"
      }
    },
    {
      "cell_type": "markdown",
      "source": [
        "### 7.1 Numerical Variables"
      ],
      "metadata": {
        "id": "eQeyhWt8ami_"
      }
    },
    {
      "cell_type": "markdown",
      "source": [
        "**A. Mean**"
      ],
      "metadata": {
        "id": "YNOQRidvfLRS"
      }
    },
    {
      "cell_type": "code",
      "source": [
        "# Mean of the year, household size and respondent age attributes\n",
        "mean_age = finscope_clean['Respondent Age'].mean()\n",
        "mean_household_size = finscope_clean['Household Size'].mean()\n",
        "mean_year = finscope_clean[ 'Year'].mean()\n",
        "\n",
        "print (f\"\"\"\n",
        "The average age was found to be {mean_age} years.\n",
        "The average household size was found to be {mean_household_size}.\n",
        "The average year was found to be {mean_year}.\n",
        "\"\"\")"
      ],
      "metadata": {
        "colab": {
          "base_uri": "https://localhost:8080/"
        },
        "id": "4Q8ifSMEZjlS",
        "outputId": "74c2e184-8c6b-4330-d109-0f2dd05d8c54"
      },
      "execution_count": 321,
      "outputs": [
        {
          "output_type": "stream",
          "name": "stdout",
          "text": [
            "\n",
            "The average age was found to be 38.570645554202194 years.\n",
            "The average household size was found to be 3.631546894031669.\n",
            "The average year was found to be 2016.971332869323.\n",
            "\n"
          ]
        }
      ]
    },
    {
      "cell_type": "markdown",
      "source": [
        "- Average age = 38.57 years\n",
        "- Average household size was found to be 3.63 individuals\n",
        "- Mean year was 2016.971 "
      ],
      "metadata": {
        "id": "YqanuMyXccdY"
      }
    },
    {
      "cell_type": "markdown",
      "source": [
        "**B. Mode**"
      ],
      "metadata": {
        "id": "YSr08URRe8dg"
      }
    },
    {
      "cell_type": "code",
      "source": [
        "# Modefor year, age and household size\n",
        "mode_age = finscope_clean['Respondent Age'].mode()\n",
        "mode_household_size = finscope_clean['Household Size'].mode()\n",
        "mode_year = finscope_clean[ 'Year'].mode()\n",
        "\n",
        "print (f\"\"\"\n",
        "The mode age was found to be {mode_age} years.\n",
        "The mode household size was found to be {mode_household_size}.\n",
        "The mode year was found to be {mode_year}.\n",
        "\"\"\")"
      ],
      "metadata": {
        "colab": {
          "base_uri": "https://localhost:8080/"
        },
        "id": "Jod1y4Tvc32a",
        "outputId": "92ef965e-fdaf-42a5-dcea-9414e5bbd99d"
      },
      "execution_count": 322,
      "outputs": [
        {
          "output_type": "stream",
          "name": "stdout",
          "text": [
            "\n",
            "The mode age was found to be 0    30.0\n",
            "dtype: float64 years.\n",
            "The mode household size was found to be 0    2.0\n",
            "dtype: float64.\n",
            "The mode year was found to be 0    2016\n",
            "dtype: int64.\n",
            "\n"
          ]
        }
      ]
    },
    {
      "cell_type": "markdown",
      "source": [
        "- Most common age was 30 years among the respondents\n",
        "- Most common household size  was 2 individuals among the respondents\n",
        "- Most records were the year 2016 "
      ],
      "metadata": {
        "id": "6ygMsf1Gc5eQ"
      }
    },
    {
      "cell_type": "markdown",
      "source": [
        "**C. Median**"
      ],
      "metadata": {
        "id": "LzDvFe0te4go"
      }
    },
    {
      "cell_type": "code",
      "source": [
        "# Median for year, age and household size\n",
        "median_age = finscope_clean['Respondent Age'].median()\n",
        "median_household_size = finscope_clean['Household Size'].median()\n",
        "median_year = finscope_clean[ 'Year'].median()\n",
        "\n",
        "print (f\"\"\"\n",
        "The median age was found to be {median_age} years.\n",
        "The median household size was found to be {median_household_size} individuals.\n",
        "The median year was found to be {median_year}\n",
        "\"\"\")"
      ],
      "metadata": {
        "colab": {
          "base_uri": "https://localhost:8080/"
        },
        "id": "jSDuFvKac4TD",
        "outputId": "773ec17d-9454-4b83-dd83-0024056ce73c"
      },
      "execution_count": 323,
      "outputs": [
        {
          "output_type": "stream",
          "name": "stdout",
          "text": [
            "\n",
            "The median age was found to be 35.0 years.\n",
            "The median household size was found to be 3.0 individuals.\n",
            "The median year was found to be 2017.0\n",
            "\n"
          ]
        }
      ]
    },
    {
      "cell_type": "markdown",
      "source": [
        "### 7.2 Mesuares of dispersion"
      ],
      "metadata": {
        "id": "kxKs48K2eWec"
      }
    },
    {
      "cell_type": "markdown",
      "source": [
        "**A. Standard deviation**"
      ],
      "metadata": {
        "id": "dMtiXubqfT8Y"
      }
    },
    {
      "cell_type": "code",
      "source": [
        "# Measure of standard deviation in age and household size\n",
        "age_std = finscope_clean['Respondent Age'].std()\n",
        "household_size_std = finscope_clean['Household Size'].std()\n",
        "\n",
        "print(f\"\"\" The standard deviation in respondents age is {age_std} years.\n",
        " The standard deviation in household size is {household_size_std} individuals\n",
        " \"\"\"\n",
        ")"
      ],
      "metadata": {
        "colab": {
          "base_uri": "https://localhost:8080/"
        },
        "id": "RYrwUX3Ye1d_",
        "outputId": "28bb58c4-651f-4d98-cc99-d11797d8c86c"
      },
      "execution_count": 324,
      "outputs": [
        {
          "output_type": "stream",
          "name": "stdout",
          "text": [
            " The standard deviation in respondents age is 16.14023714326022 years.\n",
            " The standard deviation in household size is 2.1487228089044605 individuals\n",
            " \n"
          ]
        }
      ]
    },
    {
      "cell_type": "markdown",
      "source": [
        "**B. Variance**"
      ],
      "metadata": {
        "id": "l2eelTtphPkr"
      }
    },
    {
      "cell_type": "code",
      "source": [
        "# Variance in respondent age and household size in the finscope data frame\n",
        "age_var = finscope_clean['Respondent Age'].var()\n",
        "household_size_var = finscope_clean['Household Size'].var()\n",
        "\n",
        "print(f\"\"\" The Variance in respondents age is {age_var} years.\n",
        " The Variance in household size is {household_size_var} individuals\n",
        " \"\"\"\n",
        ")"
      ],
      "metadata": {
        "colab": {
          "base_uri": "https://localhost:8080/"
        },
        "id": "i7-KUBFQe2Wl",
        "outputId": "abd6ec56-2489-47ce-ed42-c72e2037d416"
      },
      "execution_count": 325,
      "outputs": [
        {
          "output_type": "stream",
          "name": "stdout",
          "text": [
            " The Variance in respondents age is 260.5072550406768 years.\n",
            " The Variance in household size is 4.6170097095062745 individuals\n",
            " \n"
          ]
        }
      ]
    },
    {
      "cell_type": "markdown",
      "source": [
        "**C. Quantiles**"
      ],
      "metadata": {
        "id": "vPKcjpVEh2iU"
      }
    },
    {
      "cell_type": "code",
      "source": [
        "# Quantiles in respondent age and house hold size\n",
        "age_quartiles = finscope_clean['Respondent Age'].quantile([0.25,0.5,0.75])\n",
        "household_size_quartiles = finscope_clean['Household Size'].quantile([0.25,0.5,0.75])\n",
        "\n",
        "print(f\"\"\" The quartiles in respondents age are \n",
        "{age_quartiles} years.\n",
        " The quartiles in household size are \n",
        " {household_size_quartiles} individuals\n",
        " \"\"\"\n",
        ")\n"
      ],
      "metadata": {
        "colab": {
          "base_uri": "https://localhost:8080/"
        },
        "id": "rzaMDTa7e14-",
        "outputId": "5924edef-b33c-4a46-d539-f6d43d926355"
      },
      "execution_count": 326,
      "outputs": [
        {
          "output_type": "stream",
          "name": "stdout",
          "text": [
            " The quartiles in respondents age are \n",
            "0.25    26.0\n",
            "0.50    35.0\n",
            "0.75    49.0\n",
            "Name: Respondent Age, dtype: float64 years.\n",
            " The quartiles in household size are \n",
            " 0.25    2.0\n",
            "0.50    3.0\n",
            "0.75    5.0\n",
            "Name: Household Size, dtype: float64 individuals\n",
            " \n"
          ]
        }
      ]
    },
    {
      "cell_type": "markdown",
      "source": [
        "**D. Skewness**"
      ],
      "metadata": {
        "id": "t4BXbMPiisVQ"
      }
    },
    {
      "cell_type": "code",
      "source": [
        "age_skew = finscope_clean['Respondent Age'].skew()\n",
        "household_size_skew = finscope_clean['Household Size'].skew()\n",
        "\n",
        "print(f\"\"\" The skew in respondents age is {age_skew} years.\n",
        " The skew in household size is {household_size_skew} individuals\n",
        " \"\"\"\n",
        ")"
      ],
      "metadata": {
        "colab": {
          "base_uri": "https://localhost:8080/"
        },
        "id": "yQ7xuhknixGP",
        "outputId": "50e2c265-2eca-4a21-c424-fba865b5e229"
      },
      "execution_count": 327,
      "outputs": [
        {
          "output_type": "stream",
          "name": "stdout",
          "text": [
            " The skew in respondents age is 0.7828486764004298 years.\n",
            " The skew in household size is 0.6950018782867871 individuals\n",
            " \n"
          ]
        }
      ]
    },
    {
      "cell_type": "markdown",
      "source": [
        "- The skews in both the respondents age and household size were positively skewed\n",
        "- This showed that the distribution in both was tailed to the right side"
      ],
      "metadata": {
        "id": "ggnkUOu3jO-w"
      }
    },
    {
      "cell_type": "markdown",
      "source": [
        "**E. Kurtosis**"
      ],
      "metadata": {
        "id": "3RPTiUVhjg9G"
      }
    },
    {
      "cell_type": "code",
      "source": [
        "age_kurt = finscope_clean['Respondent Age'].kurt()\n",
        "household_size_kurt = finscope_clean['Household Size'].kurt()\n",
        "\n",
        "print(f\"\"\" The kurtosis in respondents age is {age_kurt} years.\n",
        " The kurtosi in household size is {household_size_kurt} individuals\n",
        " \"\"\"\n",
        ")"
      ],
      "metadata": {
        "colab": {
          "base_uri": "https://localhost:8080/"
        },
        "id": "O-mGRnyVjr90",
        "outputId": "618a51da-3144-4f1a-8c53-80e627937f35"
      },
      "execution_count": 328,
      "outputs": [
        {
          "output_type": "stream",
          "name": "stdout",
          "text": [
            " The kurtosis in respondents age is -0.10787959859878749 years.\n",
            " The kurtosi in household size is -0.2469226356191312 individuals\n",
            " \n"
          ]
        }
      ]
    },
    {
      "cell_type": "markdown",
      "source": [
        "- Both respondent age and household sizes generated negative kurtosis values \n",
        "- This implied that the distribution has lighter tails than a normal distribution"
      ],
      "metadata": {
        "id": "8owrFdP8kiOF"
      }
    },
    {
      "cell_type": "markdown",
      "source": [
        "**F. summary statistics**"
      ],
      "metadata": {
        "id": "VebG1NE8nL4g"
      }
    },
    {
      "cell_type": "code",
      "source": [
        "# Describing the data in the dataframe\n",
        "finscope_clean.describe()"
      ],
      "metadata": {
        "colab": {
          "base_uri": "https://localhost:8080/",
          "height": 0
        },
        "id": "S2H0Fct9nMVL",
        "outputId": "1c894e7e-6470-4f2a-cba2-33c073d3f3e2"
      },
      "execution_count": 329,
      "outputs": [
        {
          "output_type": "execute_result",
          "data": {
            "text/plain": [
              "               Year  Household Size  Respondent Age\n",
              "count  22988.000000    22988.000000    22988.000000\n",
              "mean    2016.971333        3.631547       38.570646\n",
              "std        0.848207        2.148723       16.140237\n",
              "min     2016.000000        1.000000       16.000000\n",
              "25%     2016.000000        2.000000       26.000000\n",
              "50%     2017.000000        3.000000       35.000000\n",
              "75%     2018.000000        5.000000       49.000000\n",
              "max     2018.000000       10.000000       88.000000"
            ],
            "text/html": [
              "\n",
              "  <div id=\"df-751bd594-8f13-4845-86c6-0009d37dcbc1\">\n",
              "    <div class=\"colab-df-container\">\n",
              "      <div>\n",
              "<style scoped>\n",
              "    .dataframe tbody tr th:only-of-type {\n",
              "        vertical-align: middle;\n",
              "    }\n",
              "\n",
              "    .dataframe tbody tr th {\n",
              "        vertical-align: top;\n",
              "    }\n",
              "\n",
              "    .dataframe thead th {\n",
              "        text-align: right;\n",
              "    }\n",
              "</style>\n",
              "<table border=\"1\" class=\"dataframe\">\n",
              "  <thead>\n",
              "    <tr style=\"text-align: right;\">\n",
              "      <th></th>\n",
              "      <th>Year</th>\n",
              "      <th>Household Size</th>\n",
              "      <th>Respondent Age</th>\n",
              "    </tr>\n",
              "  </thead>\n",
              "  <tbody>\n",
              "    <tr>\n",
              "      <th>count</th>\n",
              "      <td>22988.000000</td>\n",
              "      <td>22988.000000</td>\n",
              "      <td>22988.000000</td>\n",
              "    </tr>\n",
              "    <tr>\n",
              "      <th>mean</th>\n",
              "      <td>2016.971333</td>\n",
              "      <td>3.631547</td>\n",
              "      <td>38.570646</td>\n",
              "    </tr>\n",
              "    <tr>\n",
              "      <th>std</th>\n",
              "      <td>0.848207</td>\n",
              "      <td>2.148723</td>\n",
              "      <td>16.140237</td>\n",
              "    </tr>\n",
              "    <tr>\n",
              "      <th>min</th>\n",
              "      <td>2016.000000</td>\n",
              "      <td>1.000000</td>\n",
              "      <td>16.000000</td>\n",
              "    </tr>\n",
              "    <tr>\n",
              "      <th>25%</th>\n",
              "      <td>2016.000000</td>\n",
              "      <td>2.000000</td>\n",
              "      <td>26.000000</td>\n",
              "    </tr>\n",
              "    <tr>\n",
              "      <th>50%</th>\n",
              "      <td>2017.000000</td>\n",
              "      <td>3.000000</td>\n",
              "      <td>35.000000</td>\n",
              "    </tr>\n",
              "    <tr>\n",
              "      <th>75%</th>\n",
              "      <td>2018.000000</td>\n",
              "      <td>5.000000</td>\n",
              "      <td>49.000000</td>\n",
              "    </tr>\n",
              "    <tr>\n",
              "      <th>max</th>\n",
              "      <td>2018.000000</td>\n",
              "      <td>10.000000</td>\n",
              "      <td>88.000000</td>\n",
              "    </tr>\n",
              "  </tbody>\n",
              "</table>\n",
              "</div>\n",
              "      <button class=\"colab-df-convert\" onclick=\"convertToInteractive('df-751bd594-8f13-4845-86c6-0009d37dcbc1')\"\n",
              "              title=\"Convert this dataframe to an interactive table.\"\n",
              "              style=\"display:none;\">\n",
              "        \n",
              "  <svg xmlns=\"http://www.w3.org/2000/svg\" height=\"24px\"viewBox=\"0 0 24 24\"\n",
              "       width=\"24px\">\n",
              "    <path d=\"M0 0h24v24H0V0z\" fill=\"none\"/>\n",
              "    <path d=\"M18.56 5.44l.94 2.06.94-2.06 2.06-.94-2.06-.94-.94-2.06-.94 2.06-2.06.94zm-11 1L8.5 8.5l.94-2.06 2.06-.94-2.06-.94L8.5 2.5l-.94 2.06-2.06.94zm10 10l.94 2.06.94-2.06 2.06-.94-2.06-.94-.94-2.06-.94 2.06-2.06.94z\"/><path d=\"M17.41 7.96l-1.37-1.37c-.4-.4-.92-.59-1.43-.59-.52 0-1.04.2-1.43.59L10.3 9.45l-7.72 7.72c-.78.78-.78 2.05 0 2.83L4 21.41c.39.39.9.59 1.41.59.51 0 1.02-.2 1.41-.59l7.78-7.78 2.81-2.81c.8-.78.8-2.07 0-2.86zM5.41 20L4 18.59l7.72-7.72 1.47 1.35L5.41 20z\"/>\n",
              "  </svg>\n",
              "      </button>\n",
              "      \n",
              "  <style>\n",
              "    .colab-df-container {\n",
              "      display:flex;\n",
              "      flex-wrap:wrap;\n",
              "      gap: 12px;\n",
              "    }\n",
              "\n",
              "    .colab-df-convert {\n",
              "      background-color: #E8F0FE;\n",
              "      border: none;\n",
              "      border-radius: 50%;\n",
              "      cursor: pointer;\n",
              "      display: none;\n",
              "      fill: #1967D2;\n",
              "      height: 32px;\n",
              "      padding: 0 0 0 0;\n",
              "      width: 32px;\n",
              "    }\n",
              "\n",
              "    .colab-df-convert:hover {\n",
              "      background-color: #E2EBFA;\n",
              "      box-shadow: 0px 1px 2px rgba(60, 64, 67, 0.3), 0px 1px 3px 1px rgba(60, 64, 67, 0.15);\n",
              "      fill: #174EA6;\n",
              "    }\n",
              "\n",
              "    [theme=dark] .colab-df-convert {\n",
              "      background-color: #3B4455;\n",
              "      fill: #D2E3FC;\n",
              "    }\n",
              "\n",
              "    [theme=dark] .colab-df-convert:hover {\n",
              "      background-color: #434B5C;\n",
              "      box-shadow: 0px 1px 3px 1px rgba(0, 0, 0, 0.15);\n",
              "      filter: drop-shadow(0px 1px 2px rgba(0, 0, 0, 0.3));\n",
              "      fill: #FFFFFF;\n",
              "    }\n",
              "  </style>\n",
              "\n",
              "      <script>\n",
              "        const buttonEl =\n",
              "          document.querySelector('#df-751bd594-8f13-4845-86c6-0009d37dcbc1 button.colab-df-convert');\n",
              "        buttonEl.style.display =\n",
              "          google.colab.kernel.accessAllowed ? 'block' : 'none';\n",
              "\n",
              "        async function convertToInteractive(key) {\n",
              "          const element = document.querySelector('#df-751bd594-8f13-4845-86c6-0009d37dcbc1');\n",
              "          const dataTable =\n",
              "            await google.colab.kernel.invokeFunction('convertToInteractive',\n",
              "                                                     [key], {});\n",
              "          if (!dataTable) return;\n",
              "\n",
              "          const docLinkHtml = 'Like what you see? Visit the ' +\n",
              "            '<a target=\"_blank\" href=https://colab.research.google.com/notebooks/data_table.ipynb>data table notebook</a>'\n",
              "            + ' to learn more about interactive tables.';\n",
              "          element.innerHTML = '';\n",
              "          dataTable['output_type'] = 'display_data';\n",
              "          await google.colab.output.renderOutput(dataTable, element);\n",
              "          const docLink = document.createElement('div');\n",
              "          docLink.innerHTML = docLinkHtml;\n",
              "          element.appendChild(docLink);\n",
              "        }\n",
              "      </script>\n",
              "    </div>\n",
              "  </div>\n",
              "  "
            ]
          },
          "metadata": {},
          "execution_count": 329
        }
      ]
    },
    {
      "cell_type": "markdown",
      "source": [
        "### 7.3 Visualizations"
      ],
      "metadata": {
        "id": "zkvaaPOPngty"
      }
    },
    {
      "cell_type": "markdown",
      "source": [
        "### 7.3.1 Histograms"
      ],
      "metadata": {
        "id": "vBDB7kh5nvTg"
      }
    },
    {
      "cell_type": "markdown",
      "source": [
        "**A. respondent age**"
      ],
      "metadata": {
        "id": "QafVHkYyoOM4"
      }
    },
    {
      "cell_type": "code",
      "source": [
        "# Histogram of repondents age\n",
        "sns.displot(finscope_clean['Respondent Age'], kde=False,label='Respondent Age')"
      ],
      "metadata": {
        "colab": {
          "base_uri": "https://localhost:8080/",
          "height": 386
        },
        "id": "V4RPvhbsoTrw",
        "outputId": "3fba8b82-9579-44c6-be20-74c7757d0ca6"
      },
      "execution_count": 330,
      "outputs": [
        {
          "output_type": "execute_result",
          "data": {
            "text/plain": [
              "<seaborn.axisgrid.FacetGrid at 0x7f8440a78e50>"
            ]
          },
          "metadata": {},
          "execution_count": 330
        },
        {
          "output_type": "display_data",
          "data": {
            "text/plain": [
              "<Figure size 360x360 with 1 Axes>"
            ],
            "image/png": "[encoded data removed]"
          },
          "metadata": {
            "needs_background": "light"
          }
        }
      ]
    },
    {
      "cell_type": "markdown",
      "source": [
        "- Most respondnents fell between 30-40 years"
      ],
      "metadata": {
        "id": "wMaA2Xhlq-7v"
      }
    },
    {
      "cell_type": "markdown",
      "source": [
        "**B. Household size**"
      ],
      "metadata": {
        "id": "9Mk16xJTpnTy"
      }
    },
    {
      "cell_type": "code",
      "source": [
        "# Histogram showing level of education of respondents\n",
        "sns.displot(finscope_clean['Household Size'], kde=False,label='Household size')"
      ],
      "metadata": {
        "colab": {
          "base_uri": "https://localhost:8080/",
          "height": 386
        },
        "id": "YDBHE4agpq7Z",
        "outputId": "424af44c-17ad-49e5-8f0c-c01d67141949"
      },
      "execution_count": 331,
      "outputs": [
        {
          "output_type": "execute_result",
          "data": {
            "text/plain": [
              "<seaborn.axisgrid.FacetGrid at 0x7f842ffdd710>"
            ]
          },
          "metadata": {},
          "execution_count": 331
        },
        {
          "output_type": "display_data",
          "data": {
            "text/plain": [
              "<Figure size 360x360 with 1 Axes>"
            ],
            "image/png": "[encoded data removed]"
          },
          "metadata": {
            "needs_background": "light"
          }
        }
      ]
    },
    {
      "cell_type": "markdown",
      "source": [
        "- Most common householdsize was 2 "
      ],
      "metadata": {
        "id": "ztqze4whq33H"
      }
    },
    {
      "cell_type": "markdown",
      "source": [
        "###  7.3.2 Pie charts"
      ],
      "metadata": {
        "id": "DUuMR7lrrEub"
      }
    },
    {
      "cell_type": "markdown",
      "source": [
        "**A. Level of education**"
      ],
      "metadata": {
        "id": "z4-3AMPfr3_y"
      }
    },
    {
      "cell_type": "code",
      "source": [
        "# Education level pie charts\n",
        "# Assigning our columns to Marital Status variables\n",
        "education_level       = finscope_clean['Level of Educuation'].value_counts()\n",
        "education_level \n",
        "explode = (0, 0, 0, 0.6, 0.6, 0)\n",
        "# Plotting our pie chart\n",
        "# -------\n",
        "plt.pie(education_level , explode = explode, labels = education_level .index, autopct = '%1.1f%%', shadow = True, startangle = 140)\n",
        "plt.axis('equal')\n",
        "plt.title('Pie Chart respondents level of education')\n",
        "plt.show()"
      ],
      "metadata": {
        "colab": {
          "base_uri": "https://localhost:8080/",
          "height": 264
        },
        "id": "syKgwbXmr6qy",
        "outputId": "52331aa8-6037-4e58-9496-544ab34e48f5"
      },
      "execution_count": 332,
      "outputs": [
        {
          "output_type": "display_data",
          "data": {
            "text/plain": [
              "<Figure size 432x288 with 1 Axes>"
            ],
            "image/png": "[encoded data removed]"
          },
          "metadata": {}
        }
      ]
    },
    {
      "cell_type": "markdown",
      "source": [
        "**B. Marital Status**"
      ],
      "metadata": {
        "id": "Z9ww0EMDxBqE"
      }
    },
    {
      "cell_type": "code",
      "source": [
        "# Marital status pie chart\n",
        "# Assigning our columns to marital status variables\n",
        "marital_status       = finscope_clean['Marital Status'].value_counts()\n",
        "marital_status\n",
        "explode = (0, 0, 0, 0.6)\n",
        "# Plotting our pie chart\n",
        "# -------\n",
        "plt.pie(marital_status, explode = explode, labels = marital_status.index, autopct = '%1.1f%%', shadow = True, startangle = 140)\n",
        "plt.axis('equal')\n",
        "plt.title('Pie Chart Respondents Marital Status')\n",
        "plt.show()"
      ],
      "metadata": {
        "colab": {
          "base_uri": "https://localhost:8080/",
          "height": 264
        },
        "id": "a-6nO8FBxGF0",
        "outputId": "8b86392f-1dc9-4496-833a-7b08e5517931"
      },
      "execution_count": 333,
      "outputs": [
        {
          "output_type": "display_data",
          "data": {
            "text/plain": [
              "<Figure size 432x288 with 1 Axes>"
            ],
            "image/png": "[encoded data removed]"
          },
          "metadata": {}
        }
      ]
    },
    {
      "cell_type": "markdown",
      "source": [
        "**C. Respondents per country**"
      ],
      "metadata": {
        "id": "efUL6BbkyAKV"
      }
    },
    {
      "cell_type": "code",
      "source": [
        "# Respondents per country pie chart\n",
        "# Assigning our columns respondents per country variables\n",
        "respondents_per_country = finscope_clean['Country'].value_counts()\n",
        "respondents_per_country\n",
        "explode = (0, 0, 0, 0.6)\n",
        "# Plotting our pie chart\n",
        "# -------\n",
        "plt.pie(respondents_per_country, explode = explode, labels = respondents_per_country.index, autopct = '%1.1f%%', shadow = True, startangle = 140)\n",
        "plt.axis('equal')\n",
        "plt.title('Pie Chart Respondents per Country')\n",
        "plt.show()"
      ],
      "metadata": {
        "colab": {
          "base_uri": "https://localhost:8080/",
          "height": 264
        },
        "id": "hI5epoWLyEPj",
        "outputId": "fb27a620-b288-4b30-fcfd-6927d7678077"
      },
      "execution_count": 334,
      "outputs": [
        {
          "output_type": "display_data",
          "data": {
            "text/plain": [
              "<Figure size 432x288 with 1 Axes>"
            ],
            "image/png": "[encoded data removed]"
          },
          "metadata": {}
        }
      ]
    },
    {
      "cell_type": "markdown",
      "source": [
        "#### 7.3.3  Bar Charts"
      ],
      "metadata": {
        "id": "cZflCPT-zN4l"
      }
    },
    {
      "cell_type": "markdown",
      "source": [
        "**A. Respondent gender**"
      ],
      "metadata": {
        "id": "Up5J61mszmrZ"
      }
    },
    {
      "cell_type": "code",
      "source": [
        "# plotting a bar chart to represent peoples genders\n",
        "finscope_clean['Respondent Gender'].value_counts().plot.bar(title='Gender distribution of respondents')"
      ],
      "metadata": {
        "colab": {
          "base_uri": "https://localhost:8080/",
          "height": 325
        },
        "id": "CJSRaRAbzSXl",
        "outputId": "dd35a0f3-7e10-441d-c548-65046a2be4f1"
      },
      "execution_count": 335,
      "outputs": [
        {
          "output_type": "execute_result",
          "data": {
            "text/plain": [
              "<matplotlib.axes._subplots.AxesSubplot at 0x7f842fd59d90>"
            ]
          },
          "metadata": {},
          "execution_count": 335
        },
        {
          "output_type": "display_data",
          "data": {
            "text/plain": [
              "<Figure size 432x288 with 1 Axes>"
            ],
            "image/png": "[encoded data removed]"
          },
          "metadata": {
            "needs_background": "light"
          }
        }
      ]
    },
    {
      "cell_type": "markdown",
      "source": [
        "**B. Has bank account**"
      ],
      "metadata": {
        "id": "3gil-Lfazspy"
      }
    },
    {
      "cell_type": "code",
      "source": [
        "# plotting a bar chart to represent peoples with or without bank accounts\n",
        "finscope_clean['Has a Bank Account'].value_counts().plot.bar(title='Indiviuals with or without bank accounts')\n"
      ],
      "metadata": {
        "colab": {
          "base_uri": "https://localhost:8080/",
          "height": 305
        },
        "id": "vN0BPzarzxz1",
        "outputId": "0bc98dcd-084b-4712-c325-19a886e411fe"
      },
      "execution_count": 336,
      "outputs": [
        {
          "output_type": "execute_result",
          "data": {
            "text/plain": [
              "<matplotlib.axes._subplots.AxesSubplot at 0x7f842fce0f90>"
            ]
          },
          "metadata": {},
          "execution_count": 336
        },
        {
          "output_type": "display_data",
          "data": {
            "text/plain": [
              "<Figure size 432x288 with 1 Axes>"
            ],
            "image/png": "[encoded data removed]"
          },
          "metadata": {
            "needs_background": "light"
          }
        }
      ]
    },
    {
      "cell_type": "markdown",
      "source": [
        "**C. Individuals with Cell phone access**"
      ],
      "metadata": {
        "id": "Ojrc5Bru0HYy"
      }
    },
    {
      "cell_type": "code",
      "source": [
        "# plotting a bar chart to represent peoples with or without access to cell phones\n",
        "finscope_clean['Cell Phone Access'].value_counts().plot.bar(title='Indiviuals with or without access to cell phones')\n"
      ],
      "metadata": {
        "colab": {
          "base_uri": "https://localhost:8080/",
          "height": 305
        },
        "id": "zYS724-q0Qbe",
        "outputId": "0a071e6c-aef5-49b0-e30c-b0722029e732"
      },
      "execution_count": 337,
      "outputs": [
        {
          "output_type": "execute_result",
          "data": {
            "text/plain": [
              "<matplotlib.axes._subplots.AxesSubplot at 0x7f842fcd0090>"
            ]
          },
          "metadata": {},
          "execution_count": 337
        },
        {
          "output_type": "display_data",
          "data": {
            "text/plain": [
              "<Figure size 432x288 with 1 Axes>"
            ],
            "image/png": "[encoded data removed]"
          },
          "metadata": {
            "needs_background": "light"
          }
        }
      ]
    },
    {
      "cell_type": "markdown",
      "source": [
        "**C. Type of Job**"
      ],
      "metadata": {
        "id": "LhIZbO5d0sG8"
      }
    },
    {
      "cell_type": "code",
      "source": [
        "# plotting a bar chart to classify people according their type of job\n",
        "finscope_clean['Type of Job'].value_counts().plot.bar(title='Indiviuals with type of jobs count')\n"
      ],
      "metadata": {
        "colab": {
          "base_uri": "https://localhost:8080/",
          "height": 450
        },
        "id": "LWstwfAt0u9O",
        "outputId": "a46d7ef4-d2a6-4650-921a-08fcb2057321"
      },
      "execution_count": 338,
      "outputs": [
        {
          "output_type": "execute_result",
          "data": {
            "text/plain": [
              "<matplotlib.axes._subplots.AxesSubplot at 0x7f842fdf20d0>"
            ]
          },
          "metadata": {},
          "execution_count": 338
        },
        {
          "output_type": "display_data",
          "data": {
            "text/plain": [
              "<Figure size 432x288 with 1 Axes>"
            ],
            "image/png": "[encoded data removed]"
          },
          "metadata": {
            "needs_background": "light"
          }
        }
      ]
    },
    {
      "cell_type": "markdown",
      "source": [
        "## 8.0 Bivariant Analysis"
      ],
      "metadata": {
        "id": "d467oD-n1UNj"
      }
    },
    {
      "cell_type": "markdown",
      "source": [
        "### 7.1 Scatter plots"
      ],
      "metadata": {
        "id": "6bvubzGR3KSd"
      }
    },
    {
      "cell_type": "markdown",
      "source": [
        "**A. Age and House hold size**"
      ],
      "metadata": {
        "id": "QyEYahQr3OJ7"
      }
    },
    {
      "cell_type": "code",
      "source": [
        "# Plotting scatter plot of age compared to household size\n",
        "# Using Matplotlib: Plotting our scatterplot to compare the variables\n",
        "plt.scatter(finscope_clean[\"Respondent Age\"], finscope_clean[\"Household Size\"] )\n",
        "\n",
        "# Giving our scatterplot a title\n",
        "plt.title('Respondent age  (years) vs Household Size')\n",
        "\n",
        "# Labelling our x axis\n",
        "plt.xlabel('Respondent Age (years)')\n",
        "\n",
        "# Labelling our y axis\n",
        "plt.ylabel('Household Size')\n",
        "\n",
        "# display of scatterplot \n",
        "plt.show()"
      ],
      "metadata": {
        "colab": {
          "base_uri": "https://localhost:8080/",
          "height": 295
        },
        "id": "pEkkq5YyqEWI",
        "outputId": "1fe3b8bc-53ec-40b2-c4f7-716c268d54d0"
      },
      "execution_count": 339,
      "outputs": [
        {
          "output_type": "display_data",
          "data": {
            "text/plain": [
              "<Figure size 432x288 with 1 Axes>"
            ],
            "image/png": "[encoded data removed]"
          },
          "metadata": {
            "needs_background": "light"
          }
        }
      ]
    },
    {
      "cell_type": "markdown",
      "source": [
        "### &.2 Correlation"
      ],
      "metadata": {
        "id": "G44ccj435alC"
      }
    },
    {
      "cell_type": "markdown",
      "source": [
        "**A. correllation between numerical data**"
      ],
      "metadata": {
        "id": "q7dbgsaT_d-m"
      }
    },
    {
      "cell_type": "code",
      "source": [
        "# Plotting correlation chart between all columns in finscope data frame\n",
        "f, ax = plt.subplots(figsize=(10, 8))\n",
        "corr = finscope_clean.corr()\n",
        "sns.heatmap(corr,\n",
        "            xticklabels=corr.columns.values,\n",
        "            yticklabels=corr.columns.values)"
      ],
      "metadata": {
        "colab": {
          "base_uri": "https://localhost:8080/",
          "height": 505
        },
        "id": "XwlH7nrs5lC6",
        "outputId": "e9097fc4-cd4e-4fb7-8286-739242077d6e"
      },
      "execution_count": 340,
      "outputs": [
        {
          "output_type": "execute_result",
          "data": {
            "text/plain": [
              "<matplotlib.axes._subplots.AxesSubplot at 0x7f8440d78d50>"
            ]
          },
          "metadata": {},
          "execution_count": 340
        },
        {
          "output_type": "display_data",
          "data": {
            "text/plain": [
              "<Figure size 720x576 with 2 Axes>"
            ],
            "image/png": "[encoded data removed]"
          },
          "metadata": {
            "needs_background": "light"
          }
        }
      ]
    },
    {
      "cell_type": "markdown",
      "source": [
        "- The year, household size, and respondent age all have a correlation less than 0.5\n",
        "- This indicates all these attributes have a poor correlation among each other"
      ],
      "metadata": {
        "id": "v8bba2pd50Gv"
      }
    },
    {
      "cell_type": "markdown",
      "source": [
        "**B. Correlation Between categorical Data**"
      ],
      "metadata": {
        "id": "xzZPxsv5_ajm"
      }
    },
    {
      "cell_type": "code",
      "source": [
        "# Creating dataframes with all categorical dataframes\n",
        "df_finscope = pd.DataFrame(data = finscope_clean.dtypes, columns = \n",
        "                                         ['a']).reset_index()\n",
        "finscope_var = list(df_finscope['index'].loc[df_finscope['a'] == 'object'])\n",
        "finscope_var\n",
        "df_finscope = finscope_clean[finscope_var]\n",
        "\n",
        "# deleting unique ID data frame\n",
        "del df_finscope['UniqueID']\n",
        "df_finscope.head()"
      ],
      "metadata": {
        "colab": {
          "base_uri": "https://localhost:8080/",
          "height": 409
        },
        "id": "99PkLPFY6Lgq",
        "outputId": "d5184a3a-25e0-4a30-a827-1a2a6d909415"
      },
      "execution_count": 341,
      "outputs": [
        {
          "output_type": "execute_result",
          "data": {
            "text/plain": [
              "  Country Has a Bank Account Type of Location Cell Phone Access  \\\n",
              "0   Kenya                Yes            Rural               Yes   \n",
              "1   Kenya                 No            Rural                No   \n",
              "2   Kenya                Yes            Urban               Yes   \n",
              "3   Kenya                 No            Rural               Yes   \n",
              "4   Kenya                 No            Urban                No   \n",
              "\n",
              "  Respondent Gender Relationship with Head           Marital Status  \\\n",
              "0            Female                 Spouse  Married/Living together   \n",
              "1            Female      Head of Household                  Widowed   \n",
              "2              Male         Other relative     Single/Never Married   \n",
              "3            Female      Head of Household  Married/Living together   \n",
              "4              Male                  Child     Single/Never Married   \n",
              "\n",
              "               Level of Educuation                Type of Job  \n",
              "0              Secondary education              Self employed  \n",
              "1              No formal education       Government Dependent  \n",
              "2  Vocational/Specialised training              Self employed  \n",
              "3                Primary education  Formally employed Private  \n",
              "4                Primary education        Informally employed  "
            ],
            "text/html": [
              "\n",
              "  <div id=\"df-3c1c68a9-6a7b-4e9a-b1cb-9a8be2306a8c\">\n",
              "    <div class=\"colab-df-container\">\n",
              "      <div>\n",
              "<style scoped>\n",
              "    .dataframe tbody tr th:only-of-type {\n",
              "        vertical-align: middle;\n",
              "    }\n",
              "\n",
              "    .dataframe tbody tr th {\n",
              "        vertical-align: top;\n",
              "    }\n",
              "\n",
              "    .dataframe thead th {\n",
              "        text-align: right;\n",
              "    }\n",
              "</style>\n",
              "<table border=\"1\" class=\"dataframe\">\n",
              "  <thead>\n",
              "    <tr style=\"text-align: right;\">\n",
              "      <th></th>\n",
              "      <th>Country</th>\n",
              "      <th>Has a Bank Account</th>\n",
              "      <th>Type of Location</th>\n",
              "      <th>Cell Phone Access</th>\n",
              "      <th>Respondent Gender</th>\n",
              "      <th>Relationship with Head</th>\n",
              "      <th>Marital Status</th>\n",
              "      <th>Level of Educuation</th>\n",
              "      <th>Type of Job</th>\n",
              "    </tr>\n",
              "  </thead>\n",
              "  <tbody>\n",
              "    <tr>\n",
              "      <th>0</th>\n",
              "      <td>Kenya</td>\n",
              "      <td>Yes</td>\n",
              "      <td>Rural</td>\n",
              "      <td>Yes</td>\n",
              "      <td>Female</td>\n",
              "      <td>Spouse</td>\n",
              "      <td>Married/Living together</td>\n",
              "      <td>Secondary education</td>\n",
              "      <td>Self employed</td>\n",
              "    </tr>\n",
              "    <tr>\n",
              "      <th>1</th>\n",
              "      <td>Kenya</td>\n",
              "      <td>No</td>\n",
              "      <td>Rural</td>\n",
              "      <td>No</td>\n",
              "      <td>Female</td>\n",
              "      <td>Head of Household</td>\n",
              "      <td>Widowed</td>\n",
              "      <td>No formal education</td>\n",
              "      <td>Government Dependent</td>\n",
              "    </tr>\n",
              "    <tr>\n",
              "      <th>2</th>\n",
              "      <td>Kenya</td>\n",
              "      <td>Yes</td>\n",
              "      <td>Urban</td>\n",
              "      <td>Yes</td>\n",
              "      <td>Male</td>\n",
              "      <td>Other relative</td>\n",
              "      <td>Single/Never Married</td>\n",
              "      <td>Vocational/Specialised training</td>\n",
              "      <td>Self employed</td>\n",
              "    </tr>\n",
              "    <tr>\n",
              "      <th>3</th>\n",
              "      <td>Kenya</td>\n",
              "      <td>No</td>\n",
              "      <td>Rural</td>\n",
              "      <td>Yes</td>\n",
              "      <td>Female</td>\n",
              "      <td>Head of Household</td>\n",
              "      <td>Married/Living together</td>\n",
              "      <td>Primary education</td>\n",
              "      <td>Formally employed Private</td>\n",
              "    </tr>\n",
              "    <tr>\n",
              "      <th>4</th>\n",
              "      <td>Kenya</td>\n",
              "      <td>No</td>\n",
              "      <td>Urban</td>\n",
              "      <td>No</td>\n",
              "      <td>Male</td>\n",
              "      <td>Child</td>\n",
              "      <td>Single/Never Married</td>\n",
              "      <td>Primary education</td>\n",
              "      <td>Informally employed</td>\n",
              "    </tr>\n",
              "  </tbody>\n",
              "</table>\n",
              "</div>\n",
              "      <button class=\"colab-df-convert\" onclick=\"convertToInteractive('df-3c1c68a9-6a7b-4e9a-b1cb-9a8be2306a8c')\"\n",
              "              title=\"Convert this dataframe to an interactive table.\"\n",
              "              style=\"display:none;\">\n",
              "        \n",
              "  <svg xmlns=\"http://www.w3.org/2000/svg\" height=\"24px\"viewBox=\"0 0 24 24\"\n",
              "       width=\"24px\">\n",
              "    <path d=\"M0 0h24v24H0V0z\" fill=\"none\"/>\n",
              "    <path d=\"M18.56 5.44l.94 2.06.94-2.06 2.06-.94-2.06-.94-.94-2.06-.94 2.06-2.06.94zm-11 1L8.5 8.5l.94-2.06 2.06-.94-2.06-.94L8.5 2.5l-.94 2.06-2.06.94zm10 10l.94 2.06.94-2.06 2.06-.94-2.06-.94-.94-2.06-.94 2.06-2.06.94z\"/><path d=\"M17.41 7.96l-1.37-1.37c-.4-.4-.92-.59-1.43-.59-.52 0-1.04.2-1.43.59L10.3 9.45l-7.72 7.72c-.78.78-.78 2.05 0 2.83L4 21.41c.39.39.9.59 1.41.59.51 0 1.02-.2 1.41-.59l7.78-7.78 2.81-2.81c.8-.78.8-2.07 0-2.86zM5.41 20L4 18.59l7.72-7.72 1.47 1.35L5.41 20z\"/>\n",
              "  </svg>\n",
              "      </button>\n",
              "      \n",
              "  <style>\n",
              "    .colab-df-container {\n",
              "      display:flex;\n",
              "      flex-wrap:wrap;\n",
              "      gap: 12px;\n",
              "    }\n",
              "\n",
              "    .colab-df-convert {\n",
              "      background-color: #E8F0FE;\n",
              "      border: none;\n",
              "      border-radius: 50%;\n",
              "      cursor: pointer;\n",
              "      display: none;\n",
              "      fill: #1967D2;\n",
              "      height: 32px;\n",
              "      padding: 0 0 0 0;\n",
              "      width: 32px;\n",
              "    }\n",
              "\n",
              "    .colab-df-convert:hover {\n",
              "      background-color: #E2EBFA;\n",
              "      box-shadow: 0px 1px 2px rgba(60, 64, 67, 0.3), 0px 1px 3px 1px rgba(60, 64, 67, 0.15);\n",
              "      fill: #174EA6;\n",
              "    }\n",
              "\n",
              "    [theme=dark] .colab-df-convert {\n",
              "      background-color: #3B4455;\n",
              "      fill: #D2E3FC;\n",
              "    }\n",
              "\n",
              "    [theme=dark] .colab-df-convert:hover {\n",
              "      background-color: #434B5C;\n",
              "      box-shadow: 0px 1px 3px 1px rgba(0, 0, 0, 0.15);\n",
              "      filter: drop-shadow(0px 1px 2px rgba(0, 0, 0, 0.3));\n",
              "      fill: #FFFFFF;\n",
              "    }\n",
              "  </style>\n",
              "\n",
              "      <script>\n",
              "        const buttonEl =\n",
              "          document.querySelector('#df-3c1c68a9-6a7b-4e9a-b1cb-9a8be2306a8c button.colab-df-convert');\n",
              "        buttonEl.style.display =\n",
              "          google.colab.kernel.accessAllowed ? 'block' : 'none';\n",
              "\n",
              "        async function convertToInteractive(key) {\n",
              "          const element = document.querySelector('#df-3c1c68a9-6a7b-4e9a-b1cb-9a8be2306a8c');\n",
              "          const dataTable =\n",
              "            await google.colab.kernel.invokeFunction('convertToInteractive',\n",
              "                                                     [key], {});\n",
              "          if (!dataTable) return;\n",
              "\n",
              "          const docLinkHtml = 'Like what you see? Visit the ' +\n",
              "            '<a target=\"_blank\" href=https://colab.research.google.com/notebooks/data_table.ipynb>data table notebook</a>'\n",
              "            + ' to learn more about interactive tables.';\n",
              "          element.innerHTML = '';\n",
              "          dataTable['output_type'] = 'display_data';\n",
              "          await google.colab.output.renderOutput(dataTable, element);\n",
              "          const docLink = document.createElement('div');\n",
              "          docLink.innerHTML = docLinkHtml;\n",
              "          element.appendChild(docLink);\n",
              "        }\n",
              "      </script>\n",
              "    </div>\n",
              "  </div>\n",
              "  "
            ]
          },
          "metadata": {},
          "execution_count": 341
        }
      ]
    },
    {
      "cell_type": "code",
      "source": [
        "# splitting the list into two parts\n",
        "finscope_var1 = ('Country', 'Has a Bank Account', 'Type of Location',\n",
        "'Cell Phone Access', 'Respondent Gender', 'Relationship with Head',\n",
        "'Marital Status', 'Level of Educuation', 'Type of Job')\n",
        "\n",
        "finscope_var2 = ('Country', 'Has a Bank Account', 'Type of Location',\n",
        "'Cell Phone Access', 'Respondent Gender', 'Relationship with Head',\n",
        "'Marital Status', 'Level of Educuation', 'Type of Job')\n",
        "\n",
        "# Creating all possible combinations between the two variables\n",
        "finscope_var_prod = list(product(finscope_var1,finscope_var2, repeat = 1))"
      ],
      "metadata": {
        "id": "hEoOjDYF8gmo"
      },
      "execution_count": 342,
      "outputs": []
    },
    {
      "cell_type": "code",
      "source": [
        "# find correlation between the all data values in data frame\n",
        "finscope_corr = finscope_clean.apply(lambda x : pd.factorize(x)[0]).corr(method='pearson', min_periods=1)\n",
        "finscope_corr"
      ],
      "metadata": {
        "colab": {
          "base_uri": "https://localhost:8080/",
          "height": 711
        },
        "id": "Se-0BHBhDbN9",
        "outputId": "0e134580-ca70-4bef-d4fb-9fa88365b131"
      },
      "execution_count": 343,
      "outputs": [
        {
          "output_type": "execute_result",
          "data": {
            "text/plain": [
              "                         Country      Year  UniqueID  Has a Bank Account  \\\n",
              "Country                 1.000000  0.522730 -0.152985            0.161784   \n",
              "Year                    0.522730  1.000000  0.158050            0.136913   \n",
              "UniqueID               -0.152985  0.158050  1.000000            0.024569   \n",
              "Has a Bank Account      0.161784  0.136913  0.024569            1.000000   \n",
              "Type of Location        0.153008  0.249162 -0.067535           -0.089689   \n",
              "Cell Phone Access       0.150142  0.141956 -0.034664            0.209507   \n",
              "Household Size          0.141925  0.208616 -0.017645            0.019900   \n",
              "Respondent Age         -0.005928  0.009333  0.016302            0.034958   \n",
              "Respondent Gender      -0.025706  0.017787  0.006548           -0.116162   \n",
              "Relationship with Head -0.003290  0.023006  0.007755            0.037523   \n",
              "Marital Status          0.237521  0.390507 -0.010553            0.071927   \n",
              "Level of Educuation     0.149724  0.218103 -0.002679            0.016107   \n",
              "Type of Job            -0.218403 -0.262878  0.052304            0.046370   \n",
              "\n",
              "                        Type of Location  Cell Phone Access  Household Size  \\\n",
              "Country                         0.153008           0.150142        0.141925   \n",
              "Year                            0.249162           0.141956        0.208616   \n",
              "UniqueID                       -0.067535          -0.034664       -0.017645   \n",
              "Has a Bank Account             -0.089689           0.209507        0.019900   \n",
              "Type of Location                1.000000           0.086608        0.140780   \n",
              "Cell Phone Access               0.086608           1.000000        0.075749   \n",
              "Household Size                  0.140780           0.075749        1.000000   \n",
              "Respondent Age                 -0.032065           0.066030       -0.000252   \n",
              "Respondent Gender               0.014231          -0.103109        0.010719   \n",
              "Relationship with Head          0.032654           0.013263       -0.048480   \n",
              "Marital Status                  0.243684           0.119896        0.178267   \n",
              "Level of Educuation             0.023525          -0.015834        0.058081   \n",
              "Type of Job                    -0.247881           0.003853       -0.112859   \n",
              "\n",
              "                        Respondent Age  Respondent Gender  \\\n",
              "Country                      -0.005928          -0.025706   \n",
              "Year                          0.009333           0.017787   \n",
              "UniqueID                      0.016302           0.006548   \n",
              "Has a Bank Account            0.034958          -0.116162   \n",
              "Type of Location             -0.032065           0.014231   \n",
              "Cell Phone Access             0.066030          -0.103109   \n",
              "Household Size               -0.000252           0.010719   \n",
              "Respondent Age                1.000000           0.012535   \n",
              "Respondent Gender             0.012535           1.000000   \n",
              "Relationship with Head        0.025384           0.234326   \n",
              "Marital Status               -0.009836           0.015243   \n",
              "Level of Educuation          -0.037988           0.022539   \n",
              "Type of Job                   0.048747          -0.099462   \n",
              "\n",
              "                        Relationship with Head  Marital Status  \\\n",
              "Country                              -0.003290        0.237521   \n",
              "Year                                  0.023006        0.390507   \n",
              "UniqueID                              0.007755       -0.010553   \n",
              "Has a Bank Account                    0.037523        0.071927   \n",
              "Type of Location                      0.032654        0.243684   \n",
              "Cell Phone Access                     0.013263        0.119896   \n",
              "Household Size                       -0.048480        0.178267   \n",
              "Respondent Age                        0.025384       -0.009836   \n",
              "Respondent Gender                     0.234326        0.015243   \n",
              "Relationship with Head                1.000000        0.446069   \n",
              "Marital Status                        0.446069        1.000000   \n",
              "Level of Educuation                  -0.083908        0.046455   \n",
              "Type of Job                           0.090110       -0.118116   \n",
              "\n",
              "                        Level of Educuation  Type of Job  \n",
              "Country                            0.149724    -0.218403  \n",
              "Year                               0.218103    -0.262878  \n",
              "UniqueID                          -0.002679     0.052304  \n",
              "Has a Bank Account                 0.016107     0.046370  \n",
              "Type of Location                   0.023525    -0.247881  \n",
              "Cell Phone Access                 -0.015834     0.003853  \n",
              "Household Size                     0.058081    -0.112859  \n",
              "Respondent Age                    -0.037988     0.048747  \n",
              "Respondent Gender                  0.022539    -0.099462  \n",
              "Relationship with Head            -0.083908     0.090110  \n",
              "Marital Status                     0.046455    -0.118116  \n",
              "Level of Educuation                1.000000    -0.124563  \n",
              "Type of Job                       -0.124563     1.000000  "
            ],
            "text/html": [
              "\n",
              "  <div id=\"df-0144680d-2846-481f-91ce-0f5618c987c4\">\n",
              "    <div class=\"colab-df-container\">\n",
              "      <div>\n",
              "<style scoped>\n",
              "    .dataframe tbody tr th:only-of-type {\n",
              "        vertical-align: middle;\n",
              "    }\n",
              "\n",
              "    .dataframe tbody tr th {\n",
              "        vertical-align: top;\n",
              "    }\n",
              "\n",
              "    .dataframe thead th {\n",
              "        text-align: right;\n",
              "    }\n",
              "</style>\n",
              "<table border=\"1\" class=\"dataframe\">\n",
              "  <thead>\n",
              "    <tr style=\"text-align: right;\">\n",
              "      <th></th>\n",
              "      <th>Country</th>\n",
              "      <th>Year</th>\n",
              "      <th>UniqueID</th>\n",
              "      <th>Has a Bank Account</th>\n",
              "      <th>Type of Location</th>\n",
              "      <th>Cell Phone Access</th>\n",
              "      <th>Household Size</th>\n",
              "      <th>Respondent Age</th>\n",
              "      <th>Respondent Gender</th>\n",
              "      <th>Relationship with Head</th>\n",
              "      <th>Marital Status</th>\n",
              "      <th>Level of Educuation</th>\n",
              "      <th>Type of Job</th>\n",
              "    </tr>\n",
              "  </thead>\n",
              "  <tbody>\n",
              "    <tr>\n",
              "      <th>Country</th>\n",
              "      <td>1.000000</td>\n",
              "      <td>0.522730</td>\n",
              "      <td>-0.152985</td>\n",
              "      <td>0.161784</td>\n",
              "      <td>0.153008</td>\n",
              "      <td>0.150142</td>\n",
              "      <td>0.141925</td>\n",
              "      <td>-0.005928</td>\n",
              "      <td>-0.025706</td>\n",
              "      <td>-0.003290</td>\n",
              "      <td>0.237521</td>\n",
              "      <td>0.149724</td>\n",
              "      <td>-0.218403</td>\n",
              "    </tr>\n",
              "    <tr>\n",
              "      <th>Year</th>\n",
              "      <td>0.522730</td>\n",
              "      <td>1.000000</td>\n",
              "      <td>0.158050</td>\n",
              "      <td>0.136913</td>\n",
              "      <td>0.249162</td>\n",
              "      <td>0.141956</td>\n",
              "      <td>0.208616</td>\n",
              "      <td>0.009333</td>\n",
              "      <td>0.017787</td>\n",
              "      <td>0.023006</td>\n",
              "      <td>0.390507</td>\n",
              "      <td>0.218103</td>\n",
              "      <td>-0.262878</td>\n",
              "    </tr>\n",
              "    <tr>\n",
              "      <th>UniqueID</th>\n",
              "      <td>-0.152985</td>\n",
              "      <td>0.158050</td>\n",
              "      <td>1.000000</td>\n",
              "      <td>0.024569</td>\n",
              "      <td>-0.067535</td>\n",
              "      <td>-0.034664</td>\n",
              "      <td>-0.017645</td>\n",
              "      <td>0.016302</td>\n",
              "      <td>0.006548</td>\n",
              "      <td>0.007755</td>\n",
              "      <td>-0.010553</td>\n",
              "      <td>-0.002679</td>\n",
              "      <td>0.052304</td>\n",
              "    </tr>\n",
              "    <tr>\n",
              "      <th>Has a Bank Account</th>\n",
              "      <td>0.161784</td>\n",
              "      <td>0.136913</td>\n",
              "      <td>0.024569</td>\n",
              "      <td>1.000000</td>\n",
              "      <td>-0.089689</td>\n",
              "      <td>0.209507</td>\n",
              "      <td>0.019900</td>\n",
              "      <td>0.034958</td>\n",
              "      <td>-0.116162</td>\n",
              "      <td>0.037523</td>\n",
              "      <td>0.071927</td>\n",
              "      <td>0.016107</td>\n",
              "      <td>0.046370</td>\n",
              "    </tr>\n",
              "    <tr>\n",
              "      <th>Type of Location</th>\n",
              "      <td>0.153008</td>\n",
              "      <td>0.249162</td>\n",
              "      <td>-0.067535</td>\n",
              "      <td>-0.089689</td>\n",
              "      <td>1.000000</td>\n",
              "      <td>0.086608</td>\n",
              "      <td>0.140780</td>\n",
              "      <td>-0.032065</td>\n",
              "      <td>0.014231</td>\n",
              "      <td>0.032654</td>\n",
              "      <td>0.243684</td>\n",
              "      <td>0.023525</td>\n",
              "      <td>-0.247881</td>\n",
              "    </tr>\n",
              "    <tr>\n",
              "      <th>Cell Phone Access</th>\n",
              "      <td>0.150142</td>\n",
              "      <td>0.141956</td>\n",
              "      <td>-0.034664</td>\n",
              "      <td>0.209507</td>\n",
              "      <td>0.086608</td>\n",
              "      <td>1.000000</td>\n",
              "      <td>0.075749</td>\n",
              "      <td>0.066030</td>\n",
              "      <td>-0.103109</td>\n",
              "      <td>0.013263</td>\n",
              "      <td>0.119896</td>\n",
              "      <td>-0.015834</td>\n",
              "      <td>0.003853</td>\n",
              "    </tr>\n",
              "    <tr>\n",
              "      <th>Household Size</th>\n",
              "      <td>0.141925</td>\n",
              "      <td>0.208616</td>\n",
              "      <td>-0.017645</td>\n",
              "      <td>0.019900</td>\n",
              "      <td>0.140780</td>\n",
              "      <td>0.075749</td>\n",
              "      <td>1.000000</td>\n",
              "      <td>-0.000252</td>\n",
              "      <td>0.010719</td>\n",
              "      <td>-0.048480</td>\n",
              "      <td>0.178267</td>\n",
              "      <td>0.058081</td>\n",
              "      <td>-0.112859</td>\n",
              "    </tr>\n",
              "    <tr>\n",
              "      <th>Respondent Age</th>\n",
              "      <td>-0.005928</td>\n",
              "      <td>0.009333</td>\n",
              "      <td>0.016302</td>\n",
              "      <td>0.034958</td>\n",
              "      <td>-0.032065</td>\n",
              "      <td>0.066030</td>\n",
              "      <td>-0.000252</td>\n",
              "      <td>1.000000</td>\n",
              "      <td>0.012535</td>\n",
              "      <td>0.025384</td>\n",
              "      <td>-0.009836</td>\n",
              "      <td>-0.037988</td>\n",
              "      <td>0.048747</td>\n",
              "    </tr>\n",
              "    <tr>\n",
              "      <th>Respondent Gender</th>\n",
              "      <td>-0.025706</td>\n",
              "      <td>0.017787</td>\n",
              "      <td>0.006548</td>\n",
              "      <td>-0.116162</td>\n",
              "      <td>0.014231</td>\n",
              "      <td>-0.103109</td>\n",
              "      <td>0.010719</td>\n",
              "      <td>0.012535</td>\n",
              "      <td>1.000000</td>\n",
              "      <td>0.234326</td>\n",
              "      <td>0.015243</td>\n",
              "      <td>0.022539</td>\n",
              "      <td>-0.099462</td>\n",
              "    </tr>\n",
              "    <tr>\n",
              "      <th>Relationship with Head</th>\n",
              "      <td>-0.003290</td>\n",
              "      <td>0.023006</td>\n",
              "      <td>0.007755</td>\n",
              "      <td>0.037523</td>\n",
              "      <td>0.032654</td>\n",
              "      <td>0.013263</td>\n",
              "      <td>-0.048480</td>\n",
              "      <td>0.025384</td>\n",
              "      <td>0.234326</td>\n",
              "      <td>1.000000</td>\n",
              "      <td>0.446069</td>\n",
              "      <td>-0.083908</td>\n",
              "      <td>0.090110</td>\n",
              "    </tr>\n",
              "    <tr>\n",
              "      <th>Marital Status</th>\n",
              "      <td>0.237521</td>\n",
              "      <td>0.390507</td>\n",
              "      <td>-0.010553</td>\n",
              "      <td>0.071927</td>\n",
              "      <td>0.243684</td>\n",
              "      <td>0.119896</td>\n",
              "      <td>0.178267</td>\n",
              "      <td>-0.009836</td>\n",
              "      <td>0.015243</td>\n",
              "      <td>0.446069</td>\n",
              "      <td>1.000000</td>\n",
              "      <td>0.046455</td>\n",
              "      <td>-0.118116</td>\n",
              "    </tr>\n",
              "    <tr>\n",
              "      <th>Level of Educuation</th>\n",
              "      <td>0.149724</td>\n",
              "      <td>0.218103</td>\n",
              "      <td>-0.002679</td>\n",
              "      <td>0.016107</td>\n",
              "      <td>0.023525</td>\n",
              "      <td>-0.015834</td>\n",
              "      <td>0.058081</td>\n",
              "      <td>-0.037988</td>\n",
              "      <td>0.022539</td>\n",
              "      <td>-0.083908</td>\n",
              "      <td>0.046455</td>\n",
              "      <td>1.000000</td>\n",
              "      <td>-0.124563</td>\n",
              "    </tr>\n",
              "    <tr>\n",
              "      <th>Type of Job</th>\n",
              "      <td>-0.218403</td>\n",
              "      <td>-0.262878</td>\n",
              "      <td>0.052304</td>\n",
              "      <td>0.046370</td>\n",
              "      <td>-0.247881</td>\n",
              "      <td>0.003853</td>\n",
              "      <td>-0.112859</td>\n",
              "      <td>0.048747</td>\n",
              "      <td>-0.099462</td>\n",
              "      <td>0.090110</td>\n",
              "      <td>-0.118116</td>\n",
              "      <td>-0.124563</td>\n",
              "      <td>1.000000</td>\n",
              "    </tr>\n",
              "  </tbody>\n",
              "</table>\n",
              "</div>\n",
              "      <button class=\"colab-df-convert\" onclick=\"convertToInteractive('df-0144680d-2846-481f-91ce-0f5618c987c4')\"\n",
              "              title=\"Convert this dataframe to an interactive table.\"\n",
              "              style=\"display:none;\">\n",
              "        \n",
              "  <svg xmlns=\"http://www.w3.org/2000/svg\" height=\"24px\"viewBox=\"0 0 24 24\"\n",
              "       width=\"24px\">\n",
              "    <path d=\"M0 0h24v24H0V0z\" fill=\"none\"/>\n",
              "    <path d=\"M18.56 5.44l.94 2.06.94-2.06 2.06-.94-2.06-.94-.94-2.06-.94 2.06-2.06.94zm-11 1L8.5 8.5l.94-2.06 2.06-.94-2.06-.94L8.5 2.5l-.94 2.06-2.06.94zm10 10l.94 2.06.94-2.06 2.06-.94-2.06-.94-.94-2.06-.94 2.06-2.06.94z\"/><path d=\"M17.41 7.96l-1.37-1.37c-.4-.4-.92-.59-1.43-.59-.52 0-1.04.2-1.43.59L10.3 9.45l-7.72 7.72c-.78.78-.78 2.05 0 2.83L4 21.41c.39.39.9.59 1.41.59.51 0 1.02-.2 1.41-.59l7.78-7.78 2.81-2.81c.8-.78.8-2.07 0-2.86zM5.41 20L4 18.59l7.72-7.72 1.47 1.35L5.41 20z\"/>\n",
              "  </svg>\n",
              "      </button>\n",
              "      \n",
              "  <style>\n",
              "    .colab-df-container {\n",
              "      display:flex;\n",
              "      flex-wrap:wrap;\n",
              "      gap: 12px;\n",
              "    }\n",
              "\n",
              "    .colab-df-convert {\n",
              "      background-color: #E8F0FE;\n",
              "      border: none;\n",
              "      border-radius: 50%;\n",
              "      cursor: pointer;\n",
              "      display: none;\n",
              "      fill: #1967D2;\n",
              "      height: 32px;\n",
              "      padding: 0 0 0 0;\n",
              "      width: 32px;\n",
              "    }\n",
              "\n",
              "    .colab-df-convert:hover {\n",
              "      background-color: #E2EBFA;\n",
              "      box-shadow: 0px 1px 2px rgba(60, 64, 67, 0.3), 0px 1px 3px 1px rgba(60, 64, 67, 0.15);\n",
              "      fill: #174EA6;\n",
              "    }\n",
              "\n",
              "    [theme=dark] .colab-df-convert {\n",
              "      background-color: #3B4455;\n",
              "      fill: #D2E3FC;\n",
              "    }\n",
              "\n",
              "    [theme=dark] .colab-df-convert:hover {\n",
              "      background-color: #434B5C;\n",
              "      box-shadow: 0px 1px 3px 1px rgba(0, 0, 0, 0.15);\n",
              "      filter: drop-shadow(0px 1px 2px rgba(0, 0, 0, 0.3));\n",
              "      fill: #FFFFFF;\n",
              "    }\n",
              "  </style>\n",
              "\n",
              "      <script>\n",
              "        const buttonEl =\n",
              "          document.querySelector('#df-0144680d-2846-481f-91ce-0f5618c987c4 button.colab-df-convert');\n",
              "        buttonEl.style.display =\n",
              "          google.colab.kernel.accessAllowed ? 'block' : 'none';\n",
              "\n",
              "        async function convertToInteractive(key) {\n",
              "          const element = document.querySelector('#df-0144680d-2846-481f-91ce-0f5618c987c4');\n",
              "          const dataTable =\n",
              "            await google.colab.kernel.invokeFunction('convertToInteractive',\n",
              "                                                     [key], {});\n",
              "          if (!dataTable) return;\n",
              "\n",
              "          const docLinkHtml = 'Like what you see? Visit the ' +\n",
              "            '<a target=\"_blank\" href=https://colab.research.google.com/notebooks/data_table.ipynb>data table notebook</a>'\n",
              "            + ' to learn more about interactive tables.';\n",
              "          element.innerHTML = '';\n",
              "          dataTable['output_type'] = 'display_data';\n",
              "          await google.colab.output.renderOutput(dataTable, element);\n",
              "          const docLink = document.createElement('div');\n",
              "          docLink.innerHTML = docLinkHtml;\n",
              "          element.appendChild(docLink);\n",
              "        }\n",
              "      </script>\n",
              "    </div>\n",
              "  </div>\n",
              "  "
            ]
          },
          "metadata": {},
          "execution_count": 343
        }
      ]
    },
    {
      "cell_type": "markdown",
      "source": [
        "- Most columns aside from year and country exhibited a correlation of less tha 0.5 implying a poor correlation amost each other"
      ],
      "metadata": {
        "id": "2EOF5-D6M_VJ"
      }
    },
    {
      "cell_type": "markdown",
      "source": [
        "## 9.0 Multivaiant Analysis"
      ],
      "metadata": {
        "id": "8v5CpN3mIhEY"
      }
    },
    {
      "cell_type": "markdown",
      "source": [
        "- Here we will perform MCA analysis since we are dealing with categorical variables\n",
        "- This attribute is a latent variable"
      ],
      "metadata": {
        "id": "gd-WNDIuIl_o"
      }
    },
    {
      "cell_type": "markdown",
      "source": [
        "**A. MCA dimension reduction analysis**"
      ],
      "metadata": {
        "id": "JXEfuAD4NjfD"
      }
    },
    {
      "cell_type": "code",
      "source": [
        "X = finscope_clean.drop('UniqueID', axis=1)\n",
        "j_sup = finscope_clean.UniqueID\n",
        "i_sup = np.array([0, 1, 0, 1, 0, .5, .5, 1, 0, 1, 0, 0, 1, 0, .5, .5, 1, 0, .5, .5, 0, 1])\n",
        "ncols = 13"
      ],
      "metadata": {
        "id": "omnmmHJwgdsp"
      },
      "execution_count": 344,
      "outputs": []
    },
    {
      "cell_type": "code",
      "source": [
        "!pip install prince"
      ],
      "metadata": {
        "colab": {
          "base_uri": "https://localhost:8080/"
        },
        "id": "4OOOA2b1ivbs",
        "outputId": "ac5df2de-c297-49b3-b786-a3cc187e8e35"
      },
      "execution_count": 345,
      "outputs": [
        {
          "output_type": "stream",
          "name": "stdout",
          "text": [
            "Requirement already satisfied: prince in /usr/local/lib/python3.7/dist-packages (0.7.1)\n",
            "Requirement already satisfied: scikit-learn>=0.22.1 in /usr/local/lib/python3.7/dist-packages (from prince) (1.0.2)\n",
            "Requirement already satisfied: numpy>=1.17.1 in /usr/local/lib/python3.7/dist-packages (from prince) (1.21.5)\n",
            "Requirement already satisfied: pandas>=1.0.3 in /usr/local/lib/python3.7/dist-packages (from prince) (1.3.5)\n",
            "Requirement already satisfied: matplotlib>=3.0.2 in /usr/local/lib/python3.7/dist-packages (from prince) (3.2.2)\n",
            "Requirement already satisfied: scipy>=1.3.0 in /usr/local/lib/python3.7/dist-packages (from prince) (1.4.1)\n",
            "Requirement already satisfied: python-dateutil>=2.1 in /usr/local/lib/python3.7/dist-packages (from matplotlib>=3.0.2->prince) (2.8.2)\n",
            "Requirement already satisfied: kiwisolver>=1.0.1 in /usr/local/lib/python3.7/dist-packages (from matplotlib>=3.0.2->prince) (1.3.2)\n",
            "Requirement already satisfied: cycler>=0.10 in /usr/local/lib/python3.7/dist-packages (from matplotlib>=3.0.2->prince) (0.11.0)\n",
            "Requirement already satisfied: pyparsing!=2.0.4,!=2.1.2,!=2.1.6,>=2.0.1 in /usr/local/lib/python3.7/dist-packages (from matplotlib>=3.0.2->prince) (3.0.7)\n",
            "Requirement already satisfied: pytz>=2017.3 in /usr/local/lib/python3.7/dist-packages (from pandas>=1.0.3->prince) (2018.9)\n",
            "Requirement already satisfied: six>=1.5 in /usr/local/lib/python3.7/dist-packages (from python-dateutil>=2.1->matplotlib>=3.0.2->prince) (1.15.0)\n",
            "Requirement already satisfied: joblib>=0.11 in /usr/local/lib/python3.7/dist-packages (from scikit-learn>=0.22.1->prince) (1.1.0)\n",
            "Requirement already satisfied: threadpoolctl>=2.0.0 in /usr/local/lib/python3.7/dist-packages (from scikit-learn>=0.22.1->prince) (3.1.0)\n"
          ]
        }
      ]
    },
    {
      "cell_type": "code",
      "source": [
        "import prince\n",
        "mca = prince.MCA()"
      ],
      "metadata": {
        "id": "qb32m4SnjHVh"
      },
      "execution_count": 346,
      "outputs": []
    },
    {
      "cell_type": "code",
      "source": [
        "mca = mca.fit(X) # same as calling ca.fs_r(1)\n",
        "mca = mca.transform(X) # same as calling ca.fs_r_sup(df_new) for *another* test set.\n",
        "mca.head()"
      ],
      "metadata": {
        "colab": {
          "base_uri": "https://localhost:8080/",
          "height": 206
        },
        "id": "6qWMhjn5kAjY",
        "outputId": "7f63291d-0d6f-478c-a9bb-a9c72220f6bb"
      },
      "execution_count": 347,
      "outputs": [
        {
          "output_type": "execute_result",
          "data": {
            "text/plain": [
              "          0         1\n",
              "0 -0.052094 -0.015620\n",
              "1  0.137870  0.001699\n",
              "2 -0.056189  0.026160\n",
              "3 -0.014741 -0.019297\n",
              "4 -0.057818 -0.011582"
            ],
            "text/html": [
              "\n",
              "  <div id=\"df-72aa3677-d00f-49de-b614-ecf20f2d773a\">\n",
              "    <div class=\"colab-df-container\">\n",
              "      <div>\n",
              "<style scoped>\n",
              "    .dataframe tbody tr th:only-of-type {\n",
              "        vertical-align: middle;\n",
              "    }\n",
              "\n",
              "    .dataframe tbody tr th {\n",
              "        vertical-align: top;\n",
              "    }\n",
              "\n",
              "    .dataframe thead th {\n",
              "        text-align: right;\n",
              "    }\n",
              "</style>\n",
              "<table border=\"1\" class=\"dataframe\">\n",
              "  <thead>\n",
              "    <tr style=\"text-align: right;\">\n",
              "      <th></th>\n",
              "      <th>0</th>\n",
              "      <th>1</th>\n",
              "    </tr>\n",
              "  </thead>\n",
              "  <tbody>\n",
              "    <tr>\n",
              "      <th>0</th>\n",
              "      <td>-0.052094</td>\n",
              "      <td>-0.015620</td>\n",
              "    </tr>\n",
              "    <tr>\n",
              "      <th>1</th>\n",
              "      <td>0.137870</td>\n",
              "      <td>0.001699</td>\n",
              "    </tr>\n",
              "    <tr>\n",
              "      <th>2</th>\n",
              "      <td>-0.056189</td>\n",
              "      <td>0.026160</td>\n",
              "    </tr>\n",
              "    <tr>\n",
              "      <th>3</th>\n",
              "      <td>-0.014741</td>\n",
              "      <td>-0.019297</td>\n",
              "    </tr>\n",
              "    <tr>\n",
              "      <th>4</th>\n",
              "      <td>-0.057818</td>\n",
              "      <td>-0.011582</td>\n",
              "    </tr>\n",
              "  </tbody>\n",
              "</table>\n",
              "</div>\n",
              "      <button class=\"colab-df-convert\" onclick=\"convertToInteractive('df-72aa3677-d00f-49de-b614-ecf20f2d773a')\"\n",
              "              title=\"Convert this dataframe to an interactive table.\"\n",
              "              style=\"display:none;\">\n",
              "        \n",
              "  <svg xmlns=\"http://www.w3.org/2000/svg\" height=\"24px\"viewBox=\"0 0 24 24\"\n",
              "       width=\"24px\">\n",
              "    <path d=\"M0 0h24v24H0V0z\" fill=\"none\"/>\n",
              "    <path d=\"M18.56 5.44l.94 2.06.94-2.06 2.06-.94-2.06-.94-.94-2.06-.94 2.06-2.06.94zm-11 1L8.5 8.5l.94-2.06 2.06-.94-2.06-.94L8.5 2.5l-.94 2.06-2.06.94zm10 10l.94 2.06.94-2.06 2.06-.94-2.06-.94-.94-2.06-.94 2.06-2.06.94z\"/><path d=\"M17.41 7.96l-1.37-1.37c-.4-.4-.92-.59-1.43-.59-.52 0-1.04.2-1.43.59L10.3 9.45l-7.72 7.72c-.78.78-.78 2.05 0 2.83L4 21.41c.39.39.9.59 1.41.59.51 0 1.02-.2 1.41-.59l7.78-7.78 2.81-2.81c.8-.78.8-2.07 0-2.86zM5.41 20L4 18.59l7.72-7.72 1.47 1.35L5.41 20z\"/>\n",
              "  </svg>\n",
              "      </button>\n",
              "      \n",
              "  <style>\n",
              "    .colab-df-container {\n",
              "      display:flex;\n",
              "      flex-wrap:wrap;\n",
              "      gap: 12px;\n",
              "    }\n",
              "\n",
              "    .colab-df-convert {\n",
              "      background-color: #E8F0FE;\n",
              "      border: none;\n",
              "      border-radius: 50%;\n",
              "      cursor: pointer;\n",
              "      display: none;\n",
              "      fill: #1967D2;\n",
              "      height: 32px;\n",
              "      padding: 0 0 0 0;\n",
              "      width: 32px;\n",
              "    }\n",
              "\n",
              "    .colab-df-convert:hover {\n",
              "      background-color: #E2EBFA;\n",
              "      box-shadow: 0px 1px 2px rgba(60, 64, 67, 0.3), 0px 1px 3px 1px rgba(60, 64, 67, 0.15);\n",
              "      fill: #174EA6;\n",
              "    }\n",
              "\n",
              "    [theme=dark] .colab-df-convert {\n",
              "      background-color: #3B4455;\n",
              "      fill: #D2E3FC;\n",
              "    }\n",
              "\n",
              "    [theme=dark] .colab-df-convert:hover {\n",
              "      background-color: #434B5C;\n",
              "      box-shadow: 0px 1px 3px 1px rgba(0, 0, 0, 0.15);\n",
              "      filter: drop-shadow(0px 1px 2px rgba(0, 0, 0, 0.3));\n",
              "      fill: #FFFFFF;\n",
              "    }\n",
              "  </style>\n",
              "\n",
              "      <script>\n",
              "        const buttonEl =\n",
              "          document.querySelector('#df-72aa3677-d00f-49de-b614-ecf20f2d773a button.colab-df-convert');\n",
              "        buttonEl.style.display =\n",
              "          google.colab.kernel.accessAllowed ? 'block' : 'none';\n",
              "\n",
              "        async function convertToInteractive(key) {\n",
              "          const element = document.querySelector('#df-72aa3677-d00f-49de-b614-ecf20f2d773a');\n",
              "          const dataTable =\n",
              "            await google.colab.kernel.invokeFunction('convertToInteractive',\n",
              "                                                     [key], {});\n",
              "          if (!dataTable) return;\n",
              "\n",
              "          const docLinkHtml = 'Like what you see? Visit the ' +\n",
              "            '<a target=\"_blank\" href=https://colab.research.google.com/notebooks/data_table.ipynb>data table notebook</a>'\n",
              "            + ' to learn more about interactive tables.';\n",
              "          element.innerHTML = '';\n",
              "          dataTable['output_type'] = 'display_data';\n",
              "          await google.colab.output.renderOutput(dataTable, element);\n",
              "          const docLink = document.createElement('div');\n",
              "          docLink.innerHTML = docLinkHtml;\n",
              "          element.appendChild(docLink);\n",
              "        }\n",
              "      </script>\n",
              "    </div>\n",
              "  </div>\n",
              "  "
            ]
          },
          "metadata": {},
          "execution_count": 347
        }
      ]
    }
  ]
}